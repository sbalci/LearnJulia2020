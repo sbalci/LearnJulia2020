{
 "cells": [
  {
   "cell_type": "markdown",
   "metadata": {},
   "source": [
    "# 2. Generic programming: Random walks"
   ]
  },
  {
   "cell_type": "markdown",
   "metadata": {},
   "source": [
    "We want to think about an infection propagating through space as people move around and interact with each other. Probably the simplest way to model spatial motion is using **random walks**: at each time step, each person jumps in a random direction. This could take place in 1D (1 dimension) or 2D. For simplicity we will allow only integers.\n"
   ]
  },
  {
   "cell_type": "markdown",
   "metadata": {},
   "source": [
    "Thinking initially about one single walker (person), how could we **simulate** this in the computer? We will run an **algorithm** that looks like:\n",
    "\n",
    "0. Initialise the walker\n",
    "\n",
    "\n",
    "1. At each step:\n",
    "    - move the walker\n",
    "    - store the current position\n",
    "\n",
    "\n",
    "2. Repeat from step 1\n",
    "\n",
    "Ideally we would write our code in such a way that it has this structure but is agnostic (unaware) of *which type of walker* is moving (1D, 2D, on a network, etc.).\n",
    "This is called **generic programming**."
   ]
  },
  {
   "cell_type": "markdown",
   "metadata": {},
   "source": [
    "## Coding it up"
   ]
  },
  {
   "cell_type": "markdown",
   "metadata": {},
   "source": [
    "Each step roughly corresponds to a different function. Each different type of walker will need a different way to `initialize()` itself.  `move()` will return the new position chosen by the walker.\n",
    "\n",
    "The functions will need information about the walker, namely its current position.\n",
    "Here is a fleshed-out version:"
   ]
  },
  {
   "cell_type": "code",
   "execution_count": 4,
   "metadata": {},
   "outputs": [
    {
     "data": {
      "text/plain": [
       "walk"
      ]
     },
     "execution_count": 4,
     "metadata": {},
     "output_type": "execute_result"
    }
   ],
   "source": [
    "\"Simulate a walk for `T` steps.\"\n",
    "function walk(T)\n",
    "    pos = initialize()\n",
    "    \n",
    "    trajectory = [pos]    # make a Vector that contains just the current value of `pos`\n",
    "    \n",
    "    for t in 1:T\n",
    "        new_pos = move(pos)\n",
    "        push!(trajectory, new_pos)   # append to the Vector\n",
    "        \n",
    "        pos = new_pos     # update for next iteration\n",
    "    end\n",
    "    \n",
    "    return trajectory\n",
    "end"
   ]
  },
  {
   "cell_type": "code",
   "execution_count": 2,
   "metadata": {},
   "outputs": [
    {
     "name": "stdout",
     "output_type": "stream",
     "text": [
      "search: \u001b[0m\u001b[1mw\u001b[22m\u001b[0m\u001b[1ma\u001b[22m\u001b[0m\u001b[1ml\u001b[22m\u001b[0m\u001b[1mk\u001b[22m \u001b[0m\u001b[1mw\u001b[22m\u001b[0m\u001b[1ma\u001b[22m\u001b[0m\u001b[1ml\u001b[22m\u001b[0m\u001b[1mk\u001b[22mdir sho\u001b[0m\u001b[1mw\u001b[22m\u001b[0m\u001b[1ma\u001b[22mb\u001b[0m\u001b[1ml\u001b[22me is\u001b[0m\u001b[1mw\u001b[22mrit\u001b[0m\u001b[1ma\u001b[22mb\u001b[0m\u001b[1ml\u001b[22me\n",
      "\n"
     ]
    },
    {
     "data": {
      "text/latex": [
       "Simulate a walk for \\texttt{T} steps.\n",
       "\n"
      ],
      "text/markdown": [
       "Simulate a walk for `T` steps.\n"
      ],
      "text/plain": [
       "  Simulate a walk for \u001b[36mT\u001b[39m steps."
      ]
     },
     "execution_count": 2,
     "metadata": {},
     "output_type": "execute_result"
    }
   ],
   "source": [
    "?walk"
   ]
  },
  {
   "cell_type": "code",
   "execution_count": 5,
   "metadata": {},
   "outputs": [
    {
     "ename": "UndefVarError",
     "evalue": "UndefVarError: initialize not defined",
     "output_type": "error",
     "traceback": [
      "UndefVarError: initialize not defined",
      "",
      "Stacktrace:",
      " [1] walk(::Int64) at ./In[4]:3",
      " [2] top-level scope at In[5]:1"
     ]
    }
   ],
   "source": [
    "walk(100)"
   ]
  },
  {
   "cell_type": "markdown",
   "metadata": {},
   "source": [
    "Note that there's no problem to define this function, even though the `initialize` and `move` don't exist yet."
   ]
  },
  {
   "cell_type": "markdown",
   "metadata": {},
   "source": [
    "Let's think about a random walker moving in 1D. It starts at the origin (0) and jumps left or right with equal probability at each step:"
   ]
  },
  {
   "cell_type": "code",
   "execution_count": 34,
   "metadata": {},
   "outputs": [
    {
     "data": {
      "text/plain": [
       "move (generic function with 1 method)"
      ]
     },
     "execution_count": 34,
     "metadata": {},
     "output_type": "execute_result"
    }
   ],
   "source": [
    "# 1D walker\n",
    "\n",
    "initialize() = 0\n",
    "\n",
    "random_jump() = rand( (-1, +1) )\n",
    "\n",
    "move(x) = x + random_jump()"
   ]
  },
  {
   "cell_type": "code",
   "execution_count": 30,
   "metadata": {},
   "outputs": [
    {
     "data": {
      "text/plain": [
       "1"
      ]
     },
     "execution_count": 30,
     "metadata": {},
     "output_type": "execute_result"
    }
   ],
   "source": [
    "rand( [-1, +1, 5] )"
   ]
  },
  {
   "cell_type": "code",
   "execution_count": 31,
   "metadata": {},
   "outputs": [
    {
     "data": {
      "text/plain": [
       "-1"
      ]
     },
     "execution_count": 31,
     "metadata": {},
     "output_type": "execute_result"
    }
   ],
   "source": [
    "rand( (-1, +1, 5) )"
   ]
  },
  {
   "cell_type": "markdown",
   "metadata": {},
   "source": [
    "Benchmark: `BenchmarkTools.jl` package"
   ]
  },
  {
   "cell_type": "code",
   "execution_count": 8,
   "metadata": {},
   "outputs": [
    {
     "data": {
      "text/plain": [
       "initialize (generic function with 1 method)"
      ]
     },
     "execution_count": 8,
     "metadata": {},
     "output_type": "execute_result"
    }
   ],
   "source": [
    "initialize"
   ]
  },
  {
   "cell_type": "code",
   "execution_count": 9,
   "metadata": {},
   "outputs": [
    {
     "data": {
      "text/plain": [
       "0"
      ]
     },
     "execution_count": 9,
     "metadata": {},
     "output_type": "execute_result"
    }
   ],
   "source": [
    "initialize()"
   ]
  },
  {
   "cell_type": "code",
   "execution_count": 35,
   "metadata": {},
   "outputs": [
    {
     "data": {
      "text/plain": [
       "1"
      ]
     },
     "execution_count": 35,
     "metadata": {},
     "output_type": "execute_result"
    }
   ],
   "source": [
    "move(0)"
   ]
  },
  {
   "cell_type": "code",
   "execution_count": 36,
   "metadata": {},
   "outputs": [
    {
     "data": {
      "text/plain": [
       "2"
      ]
     },
     "execution_count": 36,
     "metadata": {},
     "output_type": "execute_result"
    }
   ],
   "source": [
    "move(1)"
   ]
  },
  {
   "cell_type": "markdown",
   "metadata": {},
   "source": [
    "It is idiomatic (i.e. regarded as good programming style) in Julia to define tiny functions like this that do one little thing.\n",
    "Note that *there is no cost* to doing so: Julia will *inline* such functions, removing the function-call overhead that you might have in other languages."
   ]
  },
  {
   "cell_type": "markdown",
   "metadata": {},
   "source": [
    "Having defined these functions, we can make a walk:"
   ]
  },
  {
   "cell_type": "code",
   "execution_count": 38,
   "metadata": {},
   "outputs": [
    {
     "data": {
      "text/plain": [
       "1×101 LinearAlgebra.Adjoint{Int64,Array{Int64,1}}:\n",
       " 0  1  2  3  4  3  2  1  2  1  0  -1  …  1  2  1  0  -1  -2  -3  -4  -5  -6"
      ]
     },
     "execution_count": 38,
     "metadata": {},
     "output_type": "execute_result"
    }
   ],
   "source": [
    "walk(100)'"
   ]
  },
  {
   "cell_type": "code",
   "execution_count": null,
   "metadata": {},
   "outputs": [],
   "source": [
    "walk(100)'   # \"'\" means \"transpose\"; this is just to save space"
   ]
  },
  {
   "cell_type": "code",
   "execution_count": 39,
   "metadata": {},
   "outputs": [],
   "source": [
    "using Plots"
   ]
  },
  {
   "cell_type": "code",
   "execution_count": 41,
   "metadata": {},
   "outputs": [
    {
     "data": {
      "image/svg+xml": [
       "<?xml version=\"1.0\" encoding=\"utf-8\"?>\n",
       "<svg xmlns=\"http://www.w3.org/2000/svg\" xmlns:xlink=\"http://www.w3.org/1999/xlink\" width=\"600\" height=\"400\" viewBox=\"0 0 2400 1600\">\n",
       "<defs>\n",
       "  <clipPath id=\"clip580\">\n",
       "    <rect x=\"0\" y=\"0\" width=\"2400\" height=\"1600\"/>\n",
       "  </clipPath>\n",
       "</defs>\n",
       "<path clip-path=\"url(#clip580)\" d=\"\n",
       "M0 1600 L2400 1600 L2400 0 L0 0  Z\n",
       "  \" fill=\"#ffffff\" fill-rule=\"evenodd\" fill-opacity=\"1\"/>\n",
       "<defs>\n",
       "  <clipPath id=\"clip581\">\n",
       "    <rect x=\"480\" y=\"0\" width=\"1681\" height=\"1600\"/>\n",
       "  </clipPath>\n",
       "</defs>\n",
       "<path clip-path=\"url(#clip580)\" d=\"\n",
       "M134.584 1486.45 L2352.76 1486.45 L2352.76 47.2441 L134.584 47.2441  Z\n",
       "  \" fill=\"#ffffff\" fill-rule=\"evenodd\" fill-opacity=\"1\"/>\n",
       "<defs>\n",
       "  <clipPath id=\"clip582\">\n",
       "    <rect x=\"134\" y=\"47\" width=\"2219\" height=\"1440\"/>\n",
       "  </clipPath>\n",
       "</defs>\n",
       "<polyline clip-path=\"url(#clip582)\" style=\"stroke:#000000; stroke-width:2; stroke-opacity:0.1; fill:none\" points=\"\n",
       "  176.437,1486.45 176.437,47.2441 \n",
       "  \"/>\n",
       "<polyline clip-path=\"url(#clip582)\" style=\"stroke:#000000; stroke-width:2; stroke-opacity:0.1; fill:none\" points=\"\n",
       "  699.59,1486.45 699.59,47.2441 \n",
       "  \"/>\n",
       "<polyline clip-path=\"url(#clip582)\" style=\"stroke:#000000; stroke-width:2; stroke-opacity:0.1; fill:none\" points=\"\n",
       "  1222.74,1486.45 1222.74,47.2441 \n",
       "  \"/>\n",
       "<polyline clip-path=\"url(#clip582)\" style=\"stroke:#000000; stroke-width:2; stroke-opacity:0.1; fill:none\" points=\"\n",
       "  1745.9,1486.45 1745.9,47.2441 \n",
       "  \"/>\n",
       "<polyline clip-path=\"url(#clip582)\" style=\"stroke:#000000; stroke-width:2; stroke-opacity:0.1; fill:none\" points=\"\n",
       "  2269.05,1486.45 2269.05,47.2441 \n",
       "  \"/>\n",
       "<polyline clip-path=\"url(#clip582)\" style=\"stroke:#000000; stroke-width:2; stroke-opacity:0.1; fill:none\" points=\"\n",
       "  134.584,1316.41 2352.76,1316.41 \n",
       "  \"/>\n",
       "<polyline clip-path=\"url(#clip582)\" style=\"stroke:#000000; stroke-width:2; stroke-opacity:0.1; fill:none\" points=\"\n",
       "  134.584,993.136 2352.76,993.136 \n",
       "  \"/>\n",
       "<polyline clip-path=\"url(#clip582)\" style=\"stroke:#000000; stroke-width:2; stroke-opacity:0.1; fill:none\" points=\"\n",
       "  134.584,669.865 2352.76,669.865 \n",
       "  \"/>\n",
       "<polyline clip-path=\"url(#clip582)\" style=\"stroke:#000000; stroke-width:2; stroke-opacity:0.1; fill:none\" points=\"\n",
       "  134.584,346.593 2352.76,346.593 \n",
       "  \"/>\n",
       "<polyline clip-path=\"url(#clip580)\" style=\"stroke:#000000; stroke-width:4; stroke-opacity:1; fill:none\" points=\"\n",
       "  134.584,1486.45 2352.76,1486.45 \n",
       "  \"/>\n",
       "<polyline clip-path=\"url(#clip580)\" style=\"stroke:#000000; stroke-width:4; stroke-opacity:1; fill:none\" points=\"\n",
       "  134.584,1486.45 134.584,47.2441 \n",
       "  \"/>\n",
       "<polyline clip-path=\"url(#clip580)\" style=\"stroke:#000000; stroke-width:4; stroke-opacity:1; fill:none\" points=\"\n",
       "  176.437,1486.45 176.437,1469.18 \n",
       "  \"/>\n",
       "<polyline clip-path=\"url(#clip580)\" style=\"stroke:#000000; stroke-width:4; stroke-opacity:1; fill:none\" points=\"\n",
       "  699.59,1486.45 699.59,1469.18 \n",
       "  \"/>\n",
       "<polyline clip-path=\"url(#clip580)\" style=\"stroke:#000000; stroke-width:4; stroke-opacity:1; fill:none\" points=\"\n",
       "  1222.74,1486.45 1222.74,1469.18 \n",
       "  \"/>\n",
       "<polyline clip-path=\"url(#clip580)\" style=\"stroke:#000000; stroke-width:4; stroke-opacity:1; fill:none\" points=\"\n",
       "  1745.9,1486.45 1745.9,1469.18 \n",
       "  \"/>\n",
       "<polyline clip-path=\"url(#clip580)\" style=\"stroke:#000000; stroke-width:4; stroke-opacity:1; fill:none\" points=\"\n",
       "  2269.05,1486.45 2269.05,1469.18 \n",
       "  \"/>\n",
       "<polyline clip-path=\"url(#clip580)\" style=\"stroke:#000000; stroke-width:4; stroke-opacity:1; fill:none\" points=\"\n",
       "  134.584,1316.41 161.203,1316.41 \n",
       "  \"/>\n",
       "<polyline clip-path=\"url(#clip580)\" style=\"stroke:#000000; stroke-width:4; stroke-opacity:1; fill:none\" points=\"\n",
       "  134.584,993.136 161.203,993.136 \n",
       "  \"/>\n",
       "<polyline clip-path=\"url(#clip580)\" style=\"stroke:#000000; stroke-width:4; stroke-opacity:1; fill:none\" points=\"\n",
       "  134.584,669.865 161.203,669.865 \n",
       "  \"/>\n",
       "<polyline clip-path=\"url(#clip580)\" style=\"stroke:#000000; stroke-width:4; stroke-opacity:1; fill:none\" points=\"\n",
       "  134.584,346.593 161.203,346.593 \n",
       "  \"/>\n",
       "<path clip-path=\"url(#clip580)\" d=\"M 0 0 M176.437 1508.44 Q172.826 1508.44 170.997 1512 Q169.191 1515.55 169.191 1522.67 Q169.191 1529.78 170.997 1533.35 Q172.826 1536.89 176.437 1536.89 Q180.071 1536.89 181.877 1533.35 Q183.705 1529.78 183.705 1522.67 Q183.705 1515.55 181.877 1512 Q180.071 1508.44 176.437 1508.44 M176.437 1504.73 Q182.247 1504.73 185.302 1509.34 Q188.381 1513.92 188.381 1522.67 Q188.381 1531.4 185.302 1536.01 Q182.247 1540.59 176.437 1540.59 Q170.627 1540.59 167.548 1536.01 Q164.492 1531.4 164.492 1522.67 Q164.492 1513.92 167.548 1509.34 Q170.627 1504.73 176.437 1504.73 Z\" fill=\"#000000\" fill-rule=\"evenodd\" fill-opacity=\"1\" /><path clip-path=\"url(#clip580)\" d=\"M 0 0 M681.234 1535.98 L697.553 1535.98 L697.553 1539.92 L675.609 1539.92 L675.609 1535.98 Q678.271 1533.23 682.854 1528.6 Q687.461 1523.95 688.641 1522.61 Q690.887 1520.08 691.766 1518.35 Q692.669 1516.59 692.669 1514.9 Q692.669 1512.14 690.725 1510.41 Q688.803 1508.67 685.702 1508.67 Q683.503 1508.67 681.049 1509.43 Q678.618 1510.2 675.841 1511.75 L675.841 1507.03 Q678.665 1505.89 681.118 1505.31 Q683.572 1504.73 685.609 1504.73 Q690.979 1504.73 694.174 1507.42 Q697.368 1510.11 697.368 1514.6 Q697.368 1516.73 696.558 1518.65 Q695.771 1520.54 693.665 1523.14 Q693.086 1523.81 689.984 1527.03 Q686.882 1530.22 681.234 1535.98 Z\" fill=\"#000000\" fill-rule=\"evenodd\" fill-opacity=\"1\" /><path clip-path=\"url(#clip580)\" d=\"M 0 0 M702.669 1505.36 L721.025 1505.36 L721.025 1509.3 L706.951 1509.3 L706.951 1517.77 Q707.97 1517.42 708.988 1517.26 Q710.007 1517.07 711.026 1517.07 Q716.813 1517.07 720.192 1520.24 Q723.572 1523.42 723.572 1528.83 Q723.572 1534.41 720.1 1537.51 Q716.627 1540.59 710.308 1540.59 Q708.132 1540.59 705.864 1540.22 Q703.618 1539.85 701.211 1539.11 L701.211 1534.41 Q703.294 1535.54 705.516 1536.1 Q707.739 1536.66 710.215 1536.66 Q714.22 1536.66 716.558 1534.55 Q718.896 1532.44 718.896 1528.83 Q718.896 1525.22 716.558 1523.11 Q714.22 1521.01 710.215 1521.01 Q708.34 1521.01 706.465 1521.42 Q704.614 1521.84 702.669 1522.72 L702.669 1505.36 Z\" fill=\"#000000\" fill-rule=\"evenodd\" fill-opacity=\"1\" /><path clip-path=\"url(#clip580)\" d=\"M 0 0 M1199.51 1505.36 L1217.87 1505.36 L1217.87 1509.3 L1203.8 1509.3 L1203.8 1517.77 Q1204.82 1517.42 1205.83 1517.26 Q1206.85 1517.07 1207.87 1517.07 Q1213.66 1517.07 1217.04 1520.24 Q1220.42 1523.42 1220.42 1528.83 Q1220.42 1534.41 1216.95 1537.51 Q1213.47 1540.59 1207.15 1540.59 Q1204.98 1540.59 1202.71 1540.22 Q1200.46 1539.85 1198.06 1539.11 L1198.06 1534.41 Q1200.14 1535.54 1202.36 1536.1 Q1204.58 1536.66 1207.06 1536.66 Q1211.07 1536.66 1213.4 1534.55 Q1215.74 1532.44 1215.74 1528.83 Q1215.74 1525.22 1213.4 1523.11 Q1211.07 1521.01 1207.06 1521.01 Q1205.19 1521.01 1203.31 1521.42 Q1201.46 1521.84 1199.51 1522.72 L1199.51 1505.36 Z\" fill=\"#000000\" fill-rule=\"evenodd\" fill-opacity=\"1\" /><path clip-path=\"url(#clip580)\" d=\"M 0 0 M1235.49 1508.44 Q1231.88 1508.44 1230.05 1512 Q1228.24 1515.55 1228.24 1522.67 Q1228.24 1529.78 1230.05 1533.35 Q1231.88 1536.89 1235.49 1536.89 Q1239.12 1536.89 1240.93 1533.35 Q1242.76 1529.78 1242.76 1522.67 Q1242.76 1515.55 1240.93 1512 Q1239.12 1508.44 1235.49 1508.44 M1235.49 1504.73 Q1241.3 1504.73 1244.35 1509.34 Q1247.43 1513.92 1247.43 1522.67 Q1247.43 1531.4 1244.35 1536.01 Q1241.3 1540.59 1235.49 1540.59 Q1229.68 1540.59 1226.6 1536.01 Q1223.54 1531.4 1223.54 1522.67 Q1223.54 1513.92 1226.6 1509.34 Q1229.68 1504.73 1235.49 1504.73 Z\" fill=\"#000000\" fill-rule=\"evenodd\" fill-opacity=\"1\" /><path clip-path=\"url(#clip580)\" d=\"M 0 0 M1721.78 1505.36 L1744 1505.36 L1744 1507.35 L1731.45 1539.92 L1726.57 1539.92 L1738.37 1509.3 L1721.78 1509.3 L1721.78 1505.36 Z\" fill=\"#000000\" fill-rule=\"evenodd\" fill-opacity=\"1\" /><path clip-path=\"url(#clip580)\" d=\"M 0 0 M1749.12 1505.36 L1767.47 1505.36 L1767.47 1509.3 L1753.4 1509.3 L1753.4 1517.77 Q1754.42 1517.42 1755.43 1517.26 Q1756.45 1517.07 1757.47 1517.07 Q1763.26 1517.07 1766.64 1520.24 Q1770.02 1523.42 1770.02 1528.83 Q1770.02 1534.41 1766.55 1537.51 Q1763.07 1540.59 1756.75 1540.59 Q1754.58 1540.59 1752.31 1540.22 Q1750.06 1539.85 1747.66 1539.11 L1747.66 1534.41 Q1749.74 1535.54 1751.96 1536.1 Q1754.18 1536.66 1756.66 1536.66 Q1760.67 1536.66 1763 1534.55 Q1765.34 1532.44 1765.34 1528.83 Q1765.34 1525.22 1763 1523.11 Q1760.67 1521.01 1756.66 1521.01 Q1754.79 1521.01 1752.91 1521.42 Q1751.06 1521.84 1749.12 1522.72 L1749.12 1505.36 Z\" fill=\"#000000\" fill-rule=\"evenodd\" fill-opacity=\"1\" /><path clip-path=\"url(#clip580)\" d=\"M 0 0 M2232.42 1535.98 L2240.06 1535.98 L2240.06 1509.62 L2231.75 1511.29 L2231.75 1507.03 L2240.01 1505.36 L2244.69 1505.36 L2244.69 1535.98 L2252.33 1535.98 L2252.33 1539.92 L2232.42 1539.92 L2232.42 1535.98 Z\" fill=\"#000000\" fill-rule=\"evenodd\" fill-opacity=\"1\" /><path clip-path=\"url(#clip580)\" d=\"M 0 0 M2267.4 1508.44 Q2263.79 1508.44 2261.96 1512 Q2260.15 1515.55 2260.15 1522.67 Q2260.15 1529.78 2261.96 1533.35 Q2263.79 1536.89 2267.4 1536.89 Q2271.03 1536.89 2272.84 1533.35 Q2274.66 1529.78 2274.66 1522.67 Q2274.66 1515.55 2272.84 1512 Q2271.03 1508.44 2267.4 1508.44 M2267.4 1504.73 Q2273.21 1504.73 2276.26 1509.34 Q2279.34 1513.92 2279.34 1522.67 Q2279.34 1531.4 2276.26 1536.01 Q2273.21 1540.59 2267.4 1540.59 Q2261.59 1540.59 2258.51 1536.01 Q2255.45 1531.4 2255.45 1522.67 Q2255.45 1513.92 2258.51 1509.34 Q2261.59 1504.73 2267.4 1504.73 Z\" fill=\"#000000\" fill-rule=\"evenodd\" fill-opacity=\"1\" /><path clip-path=\"url(#clip580)\" d=\"M 0 0 M2294.41 1508.44 Q2290.8 1508.44 2288.97 1512 Q2287.16 1515.55 2287.16 1522.67 Q2287.16 1529.78 2288.97 1533.35 Q2290.8 1536.89 2294.41 1536.89 Q2298.04 1536.89 2299.85 1533.35 Q2301.68 1529.78 2301.68 1522.67 Q2301.68 1515.55 2299.85 1512 Q2298.04 1508.44 2294.41 1508.44 M2294.41 1504.73 Q2300.22 1504.73 2303.28 1509.34 Q2306.35 1513.92 2306.35 1522.67 Q2306.35 1531.4 2303.28 1536.01 Q2300.22 1540.59 2294.41 1540.59 Q2288.6 1540.59 2285.52 1536.01 Q2282.47 1531.4 2282.47 1522.67 Q2282.47 1513.92 2285.52 1509.34 Q2288.6 1504.73 2294.41 1504.73 Z\" fill=\"#000000\" fill-rule=\"evenodd\" fill-opacity=\"1\" /><path clip-path=\"url(#clip580)\" d=\"M 0 0 M72.0893 1318.8 L84.5661 1318.8 L84.5661 1322.6 L72.0893 1322.6 L72.0893 1318.8 Z\" fill=\"#000000\" fill-rule=\"evenodd\" fill-opacity=\"1\" /><path clip-path=\"url(#clip580)\" d=\"M 0 0 M89.6818 1299.13 L108.038 1299.13 L108.038 1303.06 L93.9642 1303.06 L93.9642 1311.53 Q94.9827 1311.19 96.0012 1311.03 Q97.0197 1310.84 98.0382 1310.84 Q103.825 1310.84 107.205 1314.01 Q110.584 1317.18 110.584 1322.6 Q110.584 1328.18 107.112 1331.28 Q103.64 1334.36 97.3206 1334.36 Q95.1447 1334.36 92.8762 1333.99 Q90.6309 1333.62 88.2235 1332.88 L88.2235 1328.18 Q90.3068 1329.31 92.529 1329.87 Q94.7512 1330.42 97.2281 1330.42 Q101.233 1330.42 103.571 1328.32 Q105.909 1326.21 105.909 1322.6 Q105.909 1318.99 103.571 1316.88 Q101.233 1314.78 97.2281 1314.78 Q95.3531 1314.78 93.4781 1315.19 Q91.6262 1315.61 89.6818 1316.49 L89.6818 1299.13 Z\" fill=\"#000000\" fill-rule=\"evenodd\" fill-opacity=\"1\" /><path clip-path=\"url(#clip580)\" d=\"M 0 0 M98.6401 978.935 Q95.029 978.935 93.2003 982.499 Q91.3948 986.041 91.3948 993.171 Q91.3948 1000.28 93.2003 1003.84 Q95.029 1007.38 98.6401 1007.38 Q102.274 1007.38 104.08 1003.84 Q105.909 1000.28 105.909 993.171 Q105.909 986.041 104.08 982.499 Q102.274 978.935 98.6401 978.935 M98.6401 975.231 Q104.45 975.231 107.506 979.837 Q110.584 984.421 110.584 993.171 Q110.584 1001.9 107.506 1006.5 Q104.45 1011.09 98.6401 1011.09 Q92.8299 1011.09 89.7512 1006.5 Q86.6957 1001.9 86.6957 993.171 Q86.6957 984.421 89.7512 979.837 Q92.8299 975.231 98.6401 975.231 Z\" fill=\"#000000\" fill-rule=\"evenodd\" fill-opacity=\"1\" /><path clip-path=\"url(#clip580)\" d=\"M 0 0 M89.6818 652.585 L108.038 652.585 L108.038 656.52 L93.9642 656.52 L93.9642 664.992 Q94.9827 664.645 96.0012 664.483 Q97.0197 664.297 98.0382 664.297 Q103.825 664.297 107.205 667.469 Q110.584 670.64 110.584 676.057 Q110.584 681.635 107.112 684.737 Q103.64 687.816 97.3206 687.816 Q95.1447 687.816 92.8762 687.446 Q90.6309 687.075 88.2235 686.334 L88.2235 681.635 Q90.3068 682.77 92.529 683.325 Q94.7512 683.881 97.2281 683.881 Q101.233 683.881 103.571 681.774 Q105.909 679.668 105.909 676.057 Q105.909 672.446 103.571 670.339 Q101.233 668.233 97.2281 668.233 Q95.3531 668.233 93.4781 668.649 Q91.6262 669.066 89.6818 669.946 L89.6818 652.585 Z\" fill=\"#000000\" fill-rule=\"evenodd\" fill-opacity=\"1\" /><path clip-path=\"url(#clip580)\" d=\"M 0 0 M63.6634 359.938 L71.3023 359.938 L71.3023 333.573 L62.9921 335.239 L62.9921 330.98 L71.256 329.313 L75.9319 329.313 L75.9319 359.938 L83.5707 359.938 L83.5707 363.873 L63.6634 363.873 L63.6634 359.938 Z\" fill=\"#000000\" fill-rule=\"evenodd\" fill-opacity=\"1\" /><path clip-path=\"url(#clip580)\" d=\"M 0 0 M98.6401 332.392 Q95.029 332.392 93.2003 335.957 Q91.3948 339.498 91.3948 346.628 Q91.3948 353.734 93.2003 357.299 Q95.029 360.841 98.6401 360.841 Q102.274 360.841 104.08 357.299 Q105.909 353.734 105.909 346.628 Q105.909 339.498 104.08 335.957 Q102.274 332.392 98.6401 332.392 M98.6401 328.688 Q104.45 328.688 107.506 333.295 Q110.584 337.878 110.584 346.628 Q110.584 355.355 107.506 359.961 Q104.45 364.545 98.6401 364.545 Q92.8299 364.545 89.7512 359.961 Q86.6957 355.355 86.6957 346.628 Q86.6957 337.878 89.7512 333.295 Q92.8299 328.688 98.6401 328.688 Z\" fill=\"#000000\" fill-rule=\"evenodd\" fill-opacity=\"1\" /><polyline clip-path=\"url(#clip582)\" style=\"stroke:#009af9; stroke-width:4; stroke-opacity:1; fill:none\" points=\"\n",
       "  197.363,993.136 218.289,1057.79 239.215,993.136 260.141,928.482 281.067,993.136 301.994,1057.79 322.92,1122.44 343.846,1187.1 364.772,1251.75 385.698,1316.41 \n",
       "  406.624,1251.75 427.551,1316.41 448.477,1251.75 469.403,1316.41 490.329,1251.75 511.255,1187.1 532.181,1122.44 553.107,1187.1 574.034,1122.44 594.96,1057.79 \n",
       "  615.886,993.136 636.812,1057.79 657.738,993.136 678.664,928.482 699.59,993.136 720.517,928.482 741.443,993.136 762.369,1057.79 783.295,993.136 804.221,928.482 \n",
       "  825.147,993.136 846.073,1057.79 867,1122.44 887.926,1187.1 908.852,1122.44 929.778,1187.1 950.704,1251.75 971.63,1316.41 992.556,1381.06 1013.48,1445.72 \n",
       "  1034.41,1381.06 1055.33,1316.41 1076.26,1251.75 1097.19,1187.1 1118.11,1251.75 1139.04,1316.41 1159.97,1251.75 1180.89,1316.41 1201.82,1251.75 1222.74,1187.1 \n",
       "  1243.67,1122.44 1264.6,1187.1 1285.52,1122.44 1306.45,1187.1 1327.37,1251.75 1348.3,1316.41 1369.23,1251.75 1390.15,1187.1 1411.08,1251.75 1432.01,1187.1 \n",
       "  1452.93,1122.44 1473.86,1187.1 1494.78,1251.75 1515.71,1316.41 1536.64,1381.06 1557.56,1445.72 1578.49,1381.06 1599.41,1316.41 1620.34,1381.06 1641.27,1316.41 \n",
       "  1662.19,1381.06 1683.12,1316.41 1704.05,1251.75 1724.97,1316.41 1745.9,1251.75 1766.82,1316.41 1787.75,1251.75 1808.68,1316.41 1829.6,1251.75 1850.53,1187.1 \n",
       "  1871.45,1251.75 1892.38,1187.1 1913.31,1122.44 1934.23,1057.79 1955.16,993.136 1976.09,928.482 1997.01,863.827 2017.94,928.482 2038.86,993.136 2059.79,928.482 \n",
       "  2080.72,863.827 2101.64,928.482 2122.57,993.136 2143.49,928.482 2164.42,863.827 2185.35,799.173 2206.27,734.519 2227.2,799.173 2248.13,863.827 2269.05,799.173 \n",
       "  2289.98,863.827 \n",
       "  \"/>\n",
       "<polyline clip-path=\"url(#clip582)\" style=\"stroke:#e26f46; stroke-width:4; stroke-opacity:1; fill:none\" points=\"\n",
       "  197.363,993.136 218.289,928.482 239.215,863.827 260.141,799.173 281.067,863.827 301.994,799.173 322.92,863.827 343.846,928.482 364.772,993.136 385.698,1057.79 \n",
       "  406.624,993.136 427.551,928.482 448.477,993.136 469.403,928.482 490.329,993.136 511.255,928.482 532.181,993.136 553.107,1057.79 574.034,1122.44 594.96,1057.79 \n",
       "  615.886,993.136 636.812,928.482 657.738,863.827 678.664,799.173 699.59,863.827 720.517,799.173 741.443,734.519 762.369,799.173 783.295,734.519 804.221,669.865 \n",
       "  825.147,605.21 846.073,540.556 867,475.902 887.926,540.556 908.852,475.902 929.778,540.556 950.704,475.902 971.63,411.248 992.556,346.593 1013.48,281.939 \n",
       "  1034.41,217.285 1055.33,281.939 1076.26,217.285 1097.19,281.939 1118.11,346.593 1139.04,411.248 1159.97,346.593 1180.89,281.939 1201.82,217.285 1222.74,281.939 \n",
       "  1243.67,217.285 1264.6,281.939 1285.52,217.285 1306.45,152.631 1327.37,87.9763 1348.3,152.631 1369.23,217.285 1390.15,152.631 1411.08,217.285 1432.01,281.939 \n",
       "  1452.93,346.593 1473.86,281.939 1494.78,346.593 1515.71,281.939 1536.64,217.285 1557.56,281.939 1578.49,217.285 1599.41,152.631 1620.34,87.9763 1641.27,152.631 \n",
       "  1662.19,217.285 1683.12,281.939 1704.05,346.593 1724.97,411.248 1745.9,475.902 1766.82,540.556 1787.75,605.21 1808.68,540.556 1829.6,605.21 1850.53,540.556 \n",
       "  1871.45,605.21 1892.38,669.865 1913.31,605.21 1934.23,540.556 1955.16,605.21 1976.09,540.556 1997.01,475.902 2017.94,411.248 2038.86,475.902 2059.79,540.556 \n",
       "  2080.72,475.902 2101.64,411.248 2122.57,346.593 2143.49,281.939 2164.42,346.593 2185.35,281.939 2206.27,217.285 2227.2,152.631 2248.13,217.285 2269.05,281.939 \n",
       "  2289.98,346.593 \n",
       "  \"/>\n",
       "<path clip-path=\"url(#clip580)\" d=\"\n",
       "M1989.74 312.204 L2280.76 312.204 L2280.76 130.764 L1989.74 130.764  Z\n",
       "  \" fill=\"#ffffff\" fill-rule=\"evenodd\" fill-opacity=\"1\"/>\n",
       "<polyline clip-path=\"url(#clip580)\" style=\"stroke:#000000; stroke-width:4; stroke-opacity:1; fill:none\" points=\"\n",
       "  1989.74,312.204 2280.76,312.204 2280.76,130.764 1989.74,130.764 1989.74,312.204 \n",
       "  \"/>\n",
       "<polyline clip-path=\"url(#clip580)\" style=\"stroke:#009af9; stroke-width:4; stroke-opacity:1; fill:none\" points=\"\n",
       "  2013.74,191.244 2157.74,191.244 \n",
       "  \"/>\n",
       "<path clip-path=\"url(#clip580)\" d=\"M 0 0 M2195.58 210.931 Q2193.77 215.561 2192.06 216.973 Q2190.35 218.385 2187.48 218.385 L2184.08 218.385 L2184.08 214.82 L2186.58 214.82 Q2188.33 214.82 2189.31 213.987 Q2190.28 213.154 2191.46 210.052 L2192.22 208.107 L2181.74 182.598 L2186.25 182.598 L2194.35 202.876 L2202.46 182.598 L2206.97 182.598 L2195.58 210.931 Z\" fill=\"#000000\" fill-rule=\"evenodd\" fill-opacity=\"1\" /><path clip-path=\"url(#clip580)\" d=\"M 0 0 M2212.85 204.589 L2220.49 204.589 L2220.49 178.223 L2212.18 179.89 L2212.18 175.631 L2220.44 173.964 L2225.12 173.964 L2225.12 204.589 L2232.76 204.589 L2232.76 208.524 L2212.85 208.524 L2212.85 204.589 Z\" fill=\"#000000\" fill-rule=\"evenodd\" fill-opacity=\"1\" /><polyline clip-path=\"url(#clip580)\" style=\"stroke:#e26f46; stroke-width:4; stroke-opacity:1; fill:none\" points=\"\n",
       "  2013.74,251.724 2157.74,251.724 \n",
       "  \"/>\n",
       "<path clip-path=\"url(#clip580)\" d=\"M 0 0 M2195.58 271.411 Q2193.77 276.041 2192.06 277.453 Q2190.35 278.865 2187.48 278.865 L2184.08 278.865 L2184.08 275.3 L2186.58 275.3 Q2188.33 275.3 2189.31 274.467 Q2190.28 273.634 2191.46 270.532 L2192.22 268.587 L2181.74 243.078 L2186.25 243.078 L2194.35 263.356 L2202.46 243.078 L2206.97 243.078 L2195.58 271.411 Z\" fill=\"#000000\" fill-rule=\"evenodd\" fill-opacity=\"1\" /><path clip-path=\"url(#clip580)\" d=\"M 0 0 M2216.07 265.069 L2232.39 265.069 L2232.39 269.004 L2210.44 269.004 L2210.44 265.069 Q2213.1 262.314 2217.69 257.685 Q2222.29 253.032 2223.47 251.689 Q2225.72 249.166 2226.6 247.43 Q2227.5 245.671 2227.5 243.981 Q2227.5 241.226 2225.56 239.49 Q2223.64 237.754 2220.53 237.754 Q2218.33 237.754 2215.88 238.518 Q2213.45 239.282 2210.67 240.833 L2210.67 236.111 Q2213.5 234.976 2215.95 234.398 Q2218.4 233.819 2220.44 233.819 Q2225.81 233.819 2229.01 236.504 Q2232.2 239.189 2232.2 243.68 Q2232.2 245.81 2231.39 247.731 Q2230.6 249.629 2228.5 252.222 Q2227.92 252.893 2224.82 256.111 Q2221.71 259.305 2216.07 265.069 Z\" fill=\"#000000\" fill-rule=\"evenodd\" fill-opacity=\"1\" /></svg>\n"
      ]
     },
     "execution_count": 41,
     "metadata": {},
     "output_type": "execute_result"
    }
   ],
   "source": [
    "plot(walk(100))\n",
    "plot!(walk(100))"
   ]
  },
  {
   "cell_type": "code",
   "execution_count": 44,
   "metadata": {},
   "outputs": [
    {
     "data": {
      "image/svg+xml": [
       "<?xml version=\"1.0\" encoding=\"utf-8\"?>\n",
       "<svg xmlns=\"http://www.w3.org/2000/svg\" xmlns:xlink=\"http://www.w3.org/1999/xlink\" width=\"600\" height=\"400\" viewBox=\"0 0 2400 1600\">\n",
       "<defs>\n",
       "  <clipPath id=\"clip660\">\n",
       "    <rect x=\"0\" y=\"0\" width=\"2400\" height=\"1600\"/>\n",
       "  </clipPath>\n",
       "</defs>\n",
       "<path clip-path=\"url(#clip660)\" d=\"\n",
       "M0 1600 L2400 1600 L2400 0 L0 0  Z\n",
       "  \" fill=\"#ffffff\" fill-rule=\"evenodd\" fill-opacity=\"1\"/>\n",
       "<defs>\n",
       "  <clipPath id=\"clip661\">\n",
       "    <rect x=\"480\" y=\"0\" width=\"1681\" height=\"1600\"/>\n",
       "  </clipPath>\n",
       "</defs>\n",
       "<path clip-path=\"url(#clip660)\" d=\"\n",
       "M152.27 1486.45 L2352.76 1486.45 L2352.76 47.2441 L152.27 47.2441  Z\n",
       "  \" fill=\"#ffffff\" fill-rule=\"evenodd\" fill-opacity=\"1\"/>\n",
       "<defs>\n",
       "  <clipPath id=\"clip662\">\n",
       "    <rect x=\"152\" y=\"47\" width=\"2201\" height=\"1440\"/>\n",
       "  </clipPath>\n",
       "</defs>\n",
       "<polyline clip-path=\"url(#clip662)\" style=\"stroke:#000000; stroke-width:2; stroke-opacity:0.1; fill:none\" points=\"\n",
       "  193.788,1486.45 193.788,47.2441 \n",
       "  \"/>\n",
       "<polyline clip-path=\"url(#clip662)\" style=\"stroke:#000000; stroke-width:2; stroke-opacity:0.1; fill:none\" points=\"\n",
       "  712.771,1486.45 712.771,47.2441 \n",
       "  \"/>\n",
       "<polyline clip-path=\"url(#clip662)\" style=\"stroke:#000000; stroke-width:2; stroke-opacity:0.1; fill:none\" points=\"\n",
       "  1231.75,1486.45 1231.75,47.2441 \n",
       "  \"/>\n",
       "<polyline clip-path=\"url(#clip662)\" style=\"stroke:#000000; stroke-width:2; stroke-opacity:0.1; fill:none\" points=\"\n",
       "  1750.74,1486.45 1750.74,47.2441 \n",
       "  \"/>\n",
       "<polyline clip-path=\"url(#clip662)\" style=\"stroke:#000000; stroke-width:2; stroke-opacity:0.1; fill:none\" points=\"\n",
       "  2269.72,1486.45 2269.72,47.2441 \n",
       "  \"/>\n",
       "<polyline clip-path=\"url(#clip662)\" style=\"stroke:#000000; stroke-width:2; stroke-opacity:0.1; fill:none\" points=\"\n",
       "  152.27,1406.92 2352.76,1406.92 \n",
       "  \"/>\n",
       "<polyline clip-path=\"url(#clip662)\" style=\"stroke:#000000; stroke-width:2; stroke-opacity:0.1; fill:none\" points=\"\n",
       "  152.27,1019 2352.76,1019 \n",
       "  \"/>\n",
       "<polyline clip-path=\"url(#clip662)\" style=\"stroke:#000000; stroke-width:2; stroke-opacity:0.1; fill:none\" points=\"\n",
       "  152.27,631.072 2352.76,631.072 \n",
       "  \"/>\n",
       "<polyline clip-path=\"url(#clip662)\" style=\"stroke:#000000; stroke-width:2; stroke-opacity:0.1; fill:none\" points=\"\n",
       "  152.27,243.146 2352.76,243.146 \n",
       "  \"/>\n",
       "<polyline clip-path=\"url(#clip660)\" style=\"stroke:#000000; stroke-width:4; stroke-opacity:1; fill:none\" points=\"\n",
       "  152.27,1486.45 2352.76,1486.45 \n",
       "  \"/>\n",
       "<polyline clip-path=\"url(#clip660)\" style=\"stroke:#000000; stroke-width:4; stroke-opacity:1; fill:none\" points=\"\n",
       "  152.27,1486.45 152.27,47.2441 \n",
       "  \"/>\n",
       "<polyline clip-path=\"url(#clip660)\" style=\"stroke:#000000; stroke-width:4; stroke-opacity:1; fill:none\" points=\"\n",
       "  193.788,1486.45 193.788,1469.18 \n",
       "  \"/>\n",
       "<polyline clip-path=\"url(#clip660)\" style=\"stroke:#000000; stroke-width:4; stroke-opacity:1; fill:none\" points=\"\n",
       "  712.771,1486.45 712.771,1469.18 \n",
       "  \"/>\n",
       "<polyline clip-path=\"url(#clip660)\" style=\"stroke:#000000; stroke-width:4; stroke-opacity:1; fill:none\" points=\"\n",
       "  1231.75,1486.45 1231.75,1469.18 \n",
       "  \"/>\n",
       "<polyline clip-path=\"url(#clip660)\" style=\"stroke:#000000; stroke-width:4; stroke-opacity:1; fill:none\" points=\"\n",
       "  1750.74,1486.45 1750.74,1469.18 \n",
       "  \"/>\n",
       "<polyline clip-path=\"url(#clip660)\" style=\"stroke:#000000; stroke-width:4; stroke-opacity:1; fill:none\" points=\"\n",
       "  2269.72,1486.45 2269.72,1469.18 \n",
       "  \"/>\n",
       "<polyline clip-path=\"url(#clip660)\" style=\"stroke:#000000; stroke-width:4; stroke-opacity:1; fill:none\" points=\"\n",
       "  152.27,1406.92 178.675,1406.92 \n",
       "  \"/>\n",
       "<polyline clip-path=\"url(#clip660)\" style=\"stroke:#000000; stroke-width:4; stroke-opacity:1; fill:none\" points=\"\n",
       "  152.27,1019 178.675,1019 \n",
       "  \"/>\n",
       "<polyline clip-path=\"url(#clip660)\" style=\"stroke:#000000; stroke-width:4; stroke-opacity:1; fill:none\" points=\"\n",
       "  152.27,631.072 178.675,631.072 \n",
       "  \"/>\n",
       "<polyline clip-path=\"url(#clip660)\" style=\"stroke:#000000; stroke-width:4; stroke-opacity:1; fill:none\" points=\"\n",
       "  152.27,243.146 178.675,243.146 \n",
       "  \"/>\n",
       "<path clip-path=\"url(#clip660)\" d=\"M 0 0 M193.788 1508.44 Q190.177 1508.44 188.348 1512 Q186.543 1515.55 186.543 1522.67 Q186.543 1529.78 188.348 1533.35 Q190.177 1536.89 193.788 1536.89 Q197.422 1536.89 199.228 1533.35 Q201.057 1529.78 201.057 1522.67 Q201.057 1515.55 199.228 1512 Q197.422 1508.44 193.788 1508.44 M193.788 1504.73 Q199.598 1504.73 202.654 1509.34 Q205.733 1513.92 205.733 1522.67 Q205.733 1531.4 202.654 1536.01 Q199.598 1540.59 193.788 1540.59 Q187.978 1540.59 184.899 1536.01 Q181.844 1531.4 181.844 1522.67 Q181.844 1513.92 184.899 1509.34 Q187.978 1504.73 193.788 1504.73 Z\" fill=\"#000000\" fill-rule=\"evenodd\" fill-opacity=\"1\" /><path clip-path=\"url(#clip660)\" d=\"M 0 0 M694.414 1535.98 L710.734 1535.98 L710.734 1539.92 L688.789 1539.92 L688.789 1535.98 Q691.451 1533.23 696.035 1528.6 Q700.641 1523.95 701.822 1522.61 Q704.067 1520.08 704.947 1518.35 Q705.85 1516.59 705.85 1514.9 Q705.85 1512.14 703.905 1510.41 Q701.984 1508.67 698.882 1508.67 Q696.683 1508.67 694.229 1509.43 Q691.799 1510.2 689.021 1511.75 L689.021 1507.03 Q691.845 1505.89 694.299 1505.31 Q696.752 1504.73 698.789 1504.73 Q704.16 1504.73 707.354 1507.42 Q710.549 1510.11 710.549 1514.6 Q710.549 1516.73 709.738 1518.65 Q708.951 1520.54 706.845 1523.14 Q706.266 1523.81 703.164 1527.03 Q700.063 1530.22 694.414 1535.98 Z\" fill=\"#000000\" fill-rule=\"evenodd\" fill-opacity=\"1\" /><path clip-path=\"url(#clip660)\" d=\"M 0 0 M715.849 1505.36 L734.206 1505.36 L734.206 1509.3 L720.132 1509.3 L720.132 1517.77 Q721.15 1517.42 722.169 1517.26 Q723.187 1517.07 724.206 1517.07 Q729.993 1517.07 733.373 1520.24 Q736.752 1523.42 736.752 1528.83 Q736.752 1534.41 733.28 1537.51 Q729.808 1540.59 723.488 1540.59 Q721.312 1540.59 719.044 1540.22 Q716.799 1539.85 714.391 1539.11 L714.391 1534.41 Q716.474 1535.54 718.697 1536.1 Q720.919 1536.66 723.396 1536.66 Q727.4 1536.66 729.738 1534.55 Q732.076 1532.44 732.076 1528.83 Q732.076 1525.22 729.738 1523.11 Q727.4 1521.01 723.396 1521.01 Q721.521 1521.01 719.646 1521.42 Q717.794 1521.84 715.849 1522.72 L715.849 1505.36 Z\" fill=\"#000000\" fill-rule=\"evenodd\" fill-opacity=\"1\" /><path clip-path=\"url(#clip660)\" d=\"M 0 0 M1208.52 1505.36 L1226.88 1505.36 L1226.88 1509.3 L1212.81 1509.3 L1212.81 1517.77 Q1213.83 1517.42 1214.84 1517.26 Q1215.86 1517.07 1216.88 1517.07 Q1222.67 1517.07 1226.05 1520.24 Q1229.43 1523.42 1229.43 1528.83 Q1229.43 1534.41 1225.95 1537.51 Q1222.48 1540.59 1216.16 1540.59 Q1213.99 1540.59 1211.72 1540.22 Q1209.47 1539.85 1207.07 1539.11 L1207.07 1534.41 Q1209.15 1535.54 1211.37 1536.1 Q1213.59 1536.66 1216.07 1536.66 Q1220.08 1536.66 1222.41 1534.55 Q1224.75 1532.44 1224.75 1528.83 Q1224.75 1525.22 1222.41 1523.11 Q1220.08 1521.01 1216.07 1521.01 Q1214.2 1521.01 1212.32 1521.42 Q1210.47 1521.84 1208.52 1522.72 L1208.52 1505.36 Z\" fill=\"#000000\" fill-rule=\"evenodd\" fill-opacity=\"1\" /><path clip-path=\"url(#clip660)\" d=\"M 0 0 M1244.5 1508.44 Q1240.89 1508.44 1239.06 1512 Q1237.25 1515.55 1237.25 1522.67 Q1237.25 1529.78 1239.06 1533.35 Q1240.89 1536.89 1244.5 1536.89 Q1248.13 1536.89 1249.94 1533.35 Q1251.76 1529.78 1251.76 1522.67 Q1251.76 1515.55 1249.94 1512 Q1248.13 1508.44 1244.5 1508.44 M1244.5 1504.73 Q1250.31 1504.73 1253.36 1509.34 Q1256.44 1513.92 1256.44 1522.67 Q1256.44 1531.4 1253.36 1536.01 Q1250.31 1540.59 1244.5 1540.59 Q1238.69 1540.59 1235.61 1536.01 Q1232.55 1531.4 1232.55 1522.67 Q1232.55 1513.92 1235.61 1509.34 Q1238.69 1504.73 1244.5 1504.73 Z\" fill=\"#000000\" fill-rule=\"evenodd\" fill-opacity=\"1\" /><path clip-path=\"url(#clip660)\" d=\"M 0 0 M1726.62 1505.36 L1748.84 1505.36 L1748.84 1507.35 L1736.29 1539.92 L1731.41 1539.92 L1743.21 1509.3 L1726.62 1509.3 L1726.62 1505.36 Z\" fill=\"#000000\" fill-rule=\"evenodd\" fill-opacity=\"1\" /><path clip-path=\"url(#clip660)\" d=\"M 0 0 M1753.95 1505.36 L1772.31 1505.36 L1772.31 1509.3 L1758.24 1509.3 L1758.24 1517.77 Q1759.25 1517.42 1760.27 1517.26 Q1761.29 1517.07 1762.31 1517.07 Q1768.1 1517.07 1771.48 1520.24 Q1774.86 1523.42 1774.86 1528.83 Q1774.86 1534.41 1771.38 1537.51 Q1767.91 1540.59 1761.59 1540.59 Q1759.42 1540.59 1757.15 1540.22 Q1754.9 1539.85 1752.5 1539.11 L1752.5 1534.41 Q1754.58 1535.54 1756.8 1536.1 Q1759.02 1536.66 1761.5 1536.66 Q1765.5 1536.66 1767.84 1534.55 Q1770.18 1532.44 1770.18 1528.83 Q1770.18 1525.22 1767.84 1523.11 Q1765.5 1521.01 1761.5 1521.01 Q1759.62 1521.01 1757.75 1521.42 Q1755.9 1521.84 1753.95 1522.72 L1753.95 1505.36 Z\" fill=\"#000000\" fill-rule=\"evenodd\" fill-opacity=\"1\" /><path clip-path=\"url(#clip660)\" d=\"M 0 0 M2233.09 1535.98 L2240.73 1535.98 L2240.73 1509.62 L2232.42 1511.29 L2232.42 1507.03 L2240.68 1505.36 L2245.36 1505.36 L2245.36 1535.98 L2252.99 1535.98 L2252.99 1539.92 L2233.09 1539.92 L2233.09 1535.98 Z\" fill=\"#000000\" fill-rule=\"evenodd\" fill-opacity=\"1\" /><path clip-path=\"url(#clip660)\" d=\"M 0 0 M2268.06 1508.44 Q2264.45 1508.44 2262.62 1512 Q2260.82 1515.55 2260.82 1522.67 Q2260.82 1529.78 2262.62 1533.35 Q2264.45 1536.89 2268.06 1536.89 Q2271.7 1536.89 2273.5 1533.35 Q2275.33 1529.78 2275.33 1522.67 Q2275.33 1515.55 2273.5 1512 Q2271.7 1508.44 2268.06 1508.44 M2268.06 1504.73 Q2273.87 1504.73 2276.93 1509.34 Q2280.01 1513.92 2280.01 1522.67 Q2280.01 1531.4 2276.93 1536.01 Q2273.87 1540.59 2268.06 1540.59 Q2262.25 1540.59 2259.17 1536.01 Q2256.12 1531.4 2256.12 1522.67 Q2256.12 1513.92 2259.17 1509.34 Q2262.25 1504.73 2268.06 1504.73 Z\" fill=\"#000000\" fill-rule=\"evenodd\" fill-opacity=\"1\" /><path clip-path=\"url(#clip660)\" d=\"M 0 0 M2295.08 1508.44 Q2291.47 1508.44 2289.64 1512 Q2287.83 1515.55 2287.83 1522.67 Q2287.83 1529.78 2289.64 1533.35 Q2291.47 1536.89 2295.08 1536.89 Q2298.71 1536.89 2300.52 1533.35 Q2302.35 1529.78 2302.35 1522.67 Q2302.35 1515.55 2300.52 1512 Q2298.71 1508.44 2295.08 1508.44 M2295.08 1504.73 Q2300.89 1504.73 2303.94 1509.34 Q2307.02 1513.92 2307.02 1522.67 Q2307.02 1531.4 2303.94 1536.01 Q2300.89 1540.59 2295.08 1540.59 Q2289.27 1540.59 2286.19 1536.01 Q2283.13 1531.4 2283.13 1522.67 Q2283.13 1513.92 2286.19 1509.34 Q2289.27 1504.73 2295.08 1504.73 Z\" fill=\"#000000\" fill-rule=\"evenodd\" fill-opacity=\"1\" /><path clip-path=\"url(#clip660)\" d=\"M 0 0 M63.3625 1409.32 L75.8393 1409.32 L75.8393 1413.12 L63.3625 1413.12 L63.3625 1409.32 Z\" fill=\"#000000\" fill-rule=\"evenodd\" fill-opacity=\"1\" /><path clip-path=\"url(#clip660)\" d=\"M 0 0 M84.9365 1420.27 L101.256 1420.27 L101.256 1424.2 L79.3115 1424.2 L79.3115 1420.27 Q81.9735 1417.51 86.5568 1412.88 Q91.1633 1408.23 92.3438 1406.89 Q94.5892 1404.37 95.4688 1402.63 Q96.3716 1400.87 96.3716 1399.18 Q96.3716 1396.43 94.4271 1394.69 Q92.5059 1392.95 89.404 1392.95 Q87.205 1392.95 84.7513 1393.72 Q82.3207 1394.48 79.543 1396.03 L79.543 1391.31 Q82.367 1390.18 84.8207 1389.6 Q87.2744 1389.02 89.3114 1389.02 Q94.6818 1389.02 97.8762 1391.7 Q101.071 1394.39 101.071 1398.88 Q101.071 1401.01 100.26 1402.93 Q99.4734 1404.83 97.3669 1407.42 Q96.7882 1408.09 93.6864 1411.31 Q90.5846 1414.5 84.9365 1420.27 Z\" fill=\"#000000\" fill-rule=\"evenodd\" fill-opacity=\"1\" /><path clip-path=\"url(#clip660)\" d=\"M 0 0 M116.325 1392.72 Q112.714 1392.72 110.885 1396.29 Q109.08 1399.83 109.08 1406.96 Q109.08 1414.06 110.885 1417.63 Q112.714 1421.17 116.325 1421.17 Q119.959 1421.17 121.765 1417.63 Q123.594 1414.06 123.594 1406.96 Q123.594 1399.83 121.765 1396.29 Q119.959 1392.72 116.325 1392.72 M116.325 1389.02 Q122.135 1389.02 125.191 1393.62 Q128.27 1398.21 128.27 1406.96 Q128.27 1415.68 125.191 1420.29 Q122.135 1424.87 116.325 1424.87 Q110.515 1424.87 107.436 1420.29 Q104.381 1415.68 104.381 1406.96 Q104.381 1398.21 107.436 1393.62 Q110.515 1389.02 116.325 1389.02 Z\" fill=\"#000000\" fill-rule=\"evenodd\" fill-opacity=\"1\" /><path clip-path=\"url(#clip660)\" d=\"M 0 0 M62.9921 1021.39 L75.4689 1021.39 L75.4689 1025.19 L62.9921 1025.19 L62.9921 1021.39 Z\" fill=\"#000000\" fill-rule=\"evenodd\" fill-opacity=\"1\" /><path clip-path=\"url(#clip660)\" d=\"M 0 0 M81.3485 1032.34 L88.9874 1032.34 L88.9874 1005.98 L80.6772 1007.64 L80.6772 1003.38 L88.9411 1001.72 L93.617 1001.72 L93.617 1032.34 L101.256 1032.34 L101.256 1036.28 L81.3485 1036.28 L81.3485 1032.34 Z\" fill=\"#000000\" fill-rule=\"evenodd\" fill-opacity=\"1\" /><path clip-path=\"url(#clip660)\" d=\"M 0 0 M116.325 1004.8 Q112.714 1004.8 110.885 1008.36 Q109.08 1011.9 109.08 1019.03 Q109.08 1026.14 110.885 1029.7 Q112.714 1033.25 116.325 1033.25 Q119.959 1033.25 121.765 1029.7 Q123.594 1026.14 123.594 1019.03 Q123.594 1011.9 121.765 1008.36 Q119.959 1004.8 116.325 1004.8 M116.325 1001.09 Q122.135 1001.09 125.191 1005.7 Q128.27 1010.28 128.27 1019.03 Q128.27 1027.76 125.191 1032.37 Q122.135 1036.95 116.325 1036.95 Q110.515 1036.95 107.436 1032.37 Q104.381 1027.76 104.381 1019.03 Q104.381 1010.28 107.436 1005.7 Q110.515 1001.09 116.325 1001.09 Z\" fill=\"#000000\" fill-rule=\"evenodd\" fill-opacity=\"1\" /><path clip-path=\"url(#clip660)\" d=\"M 0 0 M116.325 616.871 Q112.714 616.871 110.885 620.436 Q109.08 623.977 109.08 631.107 Q109.08 638.213 110.885 641.778 Q112.714 645.32 116.325 645.32 Q119.959 645.32 121.765 641.778 Q123.594 638.213 123.594 631.107 Q123.594 623.977 121.765 620.436 Q119.959 616.871 116.325 616.871 M116.325 613.167 Q122.135 613.167 125.191 617.774 Q128.27 622.357 128.27 631.107 Q128.27 639.834 125.191 644.44 Q122.135 649.023 116.325 649.023 Q110.515 649.023 107.436 644.44 Q104.381 639.834 104.381 631.107 Q104.381 622.357 107.436 617.774 Q110.515 613.167 116.325 613.167 Z\" fill=\"#000000\" fill-rule=\"evenodd\" fill-opacity=\"1\" /><path clip-path=\"url(#clip660)\" d=\"M 0 0 M81.3485 256.491 L88.9874 256.491 L88.9874 230.126 L80.6772 231.792 L80.6772 227.533 L88.9411 225.866 L93.617 225.866 L93.617 256.491 L101.256 256.491 L101.256 260.426 L81.3485 260.426 L81.3485 256.491 Z\" fill=\"#000000\" fill-rule=\"evenodd\" fill-opacity=\"1\" /><path clip-path=\"url(#clip660)\" d=\"M 0 0 M116.325 228.945 Q112.714 228.945 110.885 232.51 Q109.08 236.052 109.08 243.181 Q109.08 250.288 110.885 253.852 Q112.714 257.394 116.325 257.394 Q119.959 257.394 121.765 253.852 Q123.594 250.288 123.594 243.181 Q123.594 236.052 121.765 232.51 Q119.959 228.945 116.325 228.945 M116.325 225.241 Q122.135 225.241 125.191 229.848 Q128.27 234.431 128.27 243.181 Q128.27 251.908 125.191 256.514 Q122.135 261.098 116.325 261.098 Q110.515 261.098 107.436 256.514 Q104.381 251.908 104.381 243.181 Q104.381 234.431 107.436 229.848 Q110.515 225.241 116.325 225.241 Z\" fill=\"#000000\" fill-rule=\"evenodd\" fill-opacity=\"1\" /><polyline clip-path=\"url(#clip662)\" style=\"stroke:#009af9; stroke-width:4; stroke-opacity:1; fill:none\" points=\"\n",
       "  214.547,631.072 235.307,669.865 256.066,708.657 276.825,669.865 297.585,631.072 318.344,592.279 339.103,631.072 359.863,592.279 380.622,553.487 401.381,514.694 \n",
       "  422.141,475.902 442.9,437.109 463.659,398.317 484.418,437.109 505.178,398.317 525.937,437.109 546.696,475.902 567.456,514.694 588.215,475.902 608.974,514.694 \n",
       "  629.734,475.902 650.493,437.109 671.252,398.317 692.011,437.109 712.771,475.902 733.53,514.694 754.289,553.487 775.049,592.279 795.808,553.487 816.567,592.279 \n",
       "  837.327,553.487 858.086,592.279 878.845,553.487 899.605,514.694 920.364,475.902 941.123,437.109 961.882,475.902 982.642,437.109 1003.4,475.902 1024.16,514.694 \n",
       "  1044.92,553.487 1065.68,592.279 1086.44,553.487 1107.2,514.694 1127.96,475.902 1148.72,514.694 1169.48,475.902 1190.23,437.109 1210.99,475.902 1231.75,437.109 \n",
       "  1252.51,475.902 1273.27,437.109 1294.03,475.902 1314.79,437.109 1335.55,475.902 1356.31,437.109 1377.07,398.317 1397.83,359.524 1418.59,320.732 1439.35,281.939 \n",
       "  1460.11,243.146 1480.87,281.939 1501.62,320.732 1522.38,359.524 1543.14,398.317 1563.9,437.109 1584.66,398.317 1605.42,359.524 1626.18,398.317 1646.94,359.524 \n",
       "  1667.7,320.732 1688.46,359.524 1709.22,398.317 1729.98,359.524 1750.74,398.317 1771.5,359.524 1792.25,320.732 1813.01,359.524 1833.77,398.317 1854.53,437.109 \n",
       "  1875.29,475.902 1896.05,514.694 1916.81,475.902 1937.57,514.694 1958.33,553.487 1979.09,592.279 1999.85,553.487 2020.61,514.694 2041.37,553.487 2062.13,592.279 \n",
       "  2082.88,631.072 2103.64,592.279 2124.4,553.487 2145.16,514.694 2165.92,475.902 2186.68,437.109 2207.44,398.317 2228.2,437.109 2248.96,398.317 2269.72,437.109 \n",
       "  2290.48,475.902 \n",
       "  \"/>\n",
       "<polyline clip-path=\"url(#clip662)\" style=\"stroke:#e26f46; stroke-width:4; stroke-opacity:1; fill:none\" points=\"\n",
       "  214.547,631.072 235.307,592.279 256.066,553.487 276.825,592.279 297.585,553.487 318.344,514.694 339.103,475.902 359.863,514.694 380.622,553.487 401.381,514.694 \n",
       "  422.141,553.487 442.9,592.279 463.659,553.487 484.418,514.694 505.178,475.902 525.937,514.694 546.696,553.487 567.456,592.279 588.215,631.072 608.974,669.865 \n",
       "  629.734,708.657 650.493,669.865 671.252,631.072 692.011,669.865 712.771,631.072 733.53,669.865 754.289,631.072 775.049,592.279 795.808,631.072 816.567,669.865 \n",
       "  837.327,631.072 858.086,592.279 878.845,631.072 899.605,592.279 920.364,631.072 941.123,669.865 961.882,631.072 982.642,592.279 1003.4,553.487 1024.16,592.279 \n",
       "  1044.92,553.487 1065.68,592.279 1086.44,631.072 1107.2,592.279 1127.96,631.072 1148.72,592.279 1169.48,631.072 1190.23,669.865 1210.99,708.657 1231.75,669.865 \n",
       "  1252.51,708.657 1273.27,669.865 1294.03,631.072 1314.79,669.865 1335.55,708.657 1356.31,669.865 1377.07,708.657 1397.83,747.45 1418.59,786.242 1439.35,825.035 \n",
       "  1460.11,863.827 1480.87,825.035 1501.62,863.827 1522.38,902.62 1543.14,863.827 1563.9,825.035 1584.66,786.242 1605.42,825.035 1626.18,863.827 1646.94,825.035 \n",
       "  1667.7,786.242 1688.46,747.45 1709.22,708.657 1729.98,669.865 1750.74,708.657 1771.5,669.865 1792.25,631.072 1813.01,669.865 1833.77,631.072 1854.53,592.279 \n",
       "  1875.29,553.487 1896.05,514.694 1916.81,475.902 1937.57,437.109 1958.33,475.902 1979.09,514.694 1999.85,553.487 2020.61,592.279 2041.37,553.487 2062.13,592.279 \n",
       "  2082.88,631.072 2103.64,669.865 2124.4,708.657 2145.16,747.45 2165.92,786.242 2186.68,825.035 2207.44,863.827 2228.2,825.035 2248.96,786.242 2269.72,747.45 \n",
       "  2290.48,708.657 \n",
       "  \"/>\n",
       "<polyline clip-path=\"url(#clip662)\" style=\"stroke:#3da44d; stroke-width:4; stroke-opacity:1; fill:none\" points=\"\n",
       "  214.547,631.072 235.307,669.865 256.066,708.657 276.825,669.865 297.585,631.072 318.344,669.865 339.103,631.072 359.863,592.279 380.622,553.487 401.381,592.279 \n",
       "  422.141,553.487 442.9,514.694 463.659,553.487 484.418,592.279 505.178,631.072 525.937,669.865 546.696,708.657 567.456,747.45 588.215,786.242 608.974,747.45 \n",
       "  629.734,786.242 650.493,747.45 671.252,786.242 692.011,825.035 712.771,786.242 733.53,747.45 754.289,786.242 775.049,747.45 795.808,708.657 816.567,669.865 \n",
       "  837.327,708.657 858.086,669.865 878.845,708.657 899.605,747.45 920.364,786.242 941.123,747.45 961.882,786.242 982.642,747.45 1003.4,786.242 1024.16,747.45 \n",
       "  1044.92,708.657 1065.68,669.865 1086.44,708.657 1107.2,669.865 1127.96,631.072 1148.72,669.865 1169.48,631.072 1190.23,669.865 1210.99,631.072 1231.75,669.865 \n",
       "  1252.51,708.657 1273.27,669.865 1294.03,708.657 1314.79,669.865 1335.55,708.657 1356.31,669.865 1377.07,708.657 1397.83,747.45 1418.59,708.657 1439.35,669.865 \n",
       "  1460.11,631.072 1480.87,592.279 1501.62,631.072 1522.38,669.865 1543.14,708.657 1563.9,747.45 1584.66,708.657 1605.42,747.45 1626.18,786.242 1646.94,825.035 \n",
       "  1667.7,863.827 1688.46,902.62 1709.22,941.412 1729.98,980.205 1750.74,1019 1771.5,1057.79 1792.25,1096.58 1813.01,1135.38 1833.77,1096.58 1854.53,1135.38 \n",
       "  1875.29,1174.17 1896.05,1212.96 1916.81,1174.17 1937.57,1212.96 1958.33,1251.75 1979.09,1212.96 1999.85,1174.17 2020.61,1212.96 2041.37,1251.75 2062.13,1290.55 \n",
       "  2082.88,1329.34 2103.64,1368.13 2124.4,1406.92 2145.16,1445.72 2165.92,1406.92 2186.68,1368.13 2207.44,1406.92 2228.2,1368.13 2248.96,1406.92 2269.72,1445.72 \n",
       "  2290.48,1406.92 \n",
       "  \"/>\n",
       "<polyline clip-path=\"url(#clip662)\" style=\"stroke:#c271d2; stroke-width:4; stroke-opacity:1; fill:none\" points=\"\n",
       "  214.547,631.072 235.307,592.279 256.066,553.487 276.825,592.279 297.585,553.487 318.344,514.694 339.103,553.487 359.863,592.279 380.622,553.487 401.381,514.694 \n",
       "  422.141,475.902 442.9,514.694 463.659,553.487 484.418,514.694 505.178,553.487 525.937,514.694 546.696,553.487 567.456,514.694 588.215,553.487 608.974,514.694 \n",
       "  629.734,553.487 650.493,514.694 671.252,475.902 692.011,514.694 712.771,553.487 733.53,592.279 754.289,631.072 775.049,592.279 795.808,631.072 816.567,669.865 \n",
       "  837.327,708.657 858.086,669.865 878.845,631.072 899.605,592.279 920.364,631.072 941.123,592.279 961.882,631.072 982.642,592.279 1003.4,631.072 1024.16,669.865 \n",
       "  1044.92,631.072 1065.68,669.865 1086.44,631.072 1107.2,592.279 1127.96,553.487 1148.72,514.694 1169.48,475.902 1190.23,437.109 1210.99,475.902 1231.75,437.109 \n",
       "  1252.51,398.317 1273.27,437.109 1294.03,398.317 1314.79,437.109 1335.55,398.317 1356.31,437.109 1377.07,398.317 1397.83,437.109 1418.59,475.902 1439.35,514.694 \n",
       "  1460.11,553.487 1480.87,592.279 1501.62,631.072 1522.38,669.865 1543.14,708.657 1563.9,669.865 1584.66,708.657 1605.42,747.45 1626.18,786.242 1646.94,747.45 \n",
       "  1667.7,708.657 1688.46,747.45 1709.22,786.242 1729.98,747.45 1750.74,708.657 1771.5,747.45 1792.25,786.242 1813.01,825.035 1833.77,786.242 1854.53,825.035 \n",
       "  1875.29,863.827 1896.05,902.62 1916.81,941.412 1937.57,902.62 1958.33,941.412 1979.09,902.62 1999.85,863.827 2020.61,825.035 2041.37,786.242 2062.13,747.45 \n",
       "  2082.88,708.657 2103.64,747.45 2124.4,786.242 2145.16,747.45 2165.92,786.242 2186.68,747.45 2207.44,786.242 2228.2,747.45 2248.96,786.242 2269.72,747.45 \n",
       "  2290.48,708.657 \n",
       "  \"/>\n",
       "<polyline clip-path=\"url(#clip662)\" style=\"stroke:#ac8d18; stroke-width:4; stroke-opacity:1; fill:none\" points=\"\n",
       "  214.547,631.072 235.307,592.279 256.066,553.487 276.825,514.694 297.585,475.902 318.344,514.694 339.103,475.902 359.863,437.109 380.622,398.317 401.381,359.524 \n",
       "  422.141,398.317 442.9,437.109 463.659,398.317 484.418,359.524 505.178,398.317 525.937,359.524 546.696,320.732 567.456,359.524 588.215,320.732 608.974,359.524 \n",
       "  629.734,320.732 650.493,359.524 671.252,398.317 692.011,437.109 712.771,475.902 733.53,514.694 754.289,553.487 775.049,592.279 795.808,553.487 816.567,592.279 \n",
       "  837.327,631.072 858.086,669.865 878.845,631.072 899.605,669.865 920.364,631.072 941.123,669.865 961.882,631.072 982.642,669.865 1003.4,708.657 1024.16,747.45 \n",
       "  1044.92,786.242 1065.68,747.45 1086.44,786.242 1107.2,747.45 1127.96,708.657 1148.72,669.865 1169.48,708.657 1190.23,747.45 1210.99,708.657 1231.75,747.45 \n",
       "  1252.51,786.242 1273.27,825.035 1294.03,863.827 1314.79,902.62 1335.55,863.827 1356.31,902.62 1377.07,863.827 1397.83,825.035 1418.59,863.827 1439.35,902.62 \n",
       "  1460.11,863.827 1480.87,825.035 1501.62,863.827 1522.38,825.035 1543.14,863.827 1563.9,825.035 1584.66,786.242 1605.42,747.45 1626.18,708.657 1646.94,669.865 \n",
       "  1667.7,631.072 1688.46,669.865 1709.22,631.072 1729.98,592.279 1750.74,553.487 1771.5,514.694 1792.25,553.487 1813.01,592.279 1833.77,631.072 1854.53,669.865 \n",
       "  1875.29,708.657 1896.05,747.45 1916.81,786.242 1937.57,747.45 1958.33,786.242 1979.09,747.45 1999.85,786.242 2020.61,747.45 2041.37,786.242 2062.13,825.035 \n",
       "  2082.88,786.242 2103.64,747.45 2124.4,786.242 2145.16,747.45 2165.92,708.657 2186.68,669.865 2207.44,708.657 2228.2,669.865 2248.96,631.072 2269.72,592.279 \n",
       "  2290.48,553.487 \n",
       "  \"/>\n",
       "<polyline clip-path=\"url(#clip662)\" style=\"stroke:#00a9ad; stroke-width:4; stroke-opacity:1; fill:none\" points=\"\n",
       "  214.547,631.072 235.307,592.279 256.066,631.072 276.825,669.865 297.585,708.657 318.344,747.45 339.103,708.657 359.863,747.45 380.622,786.242 401.381,825.035 \n",
       "  422.141,786.242 442.9,825.035 463.659,863.827 484.418,902.62 505.178,941.412 525.937,902.62 546.696,941.412 567.456,980.205 588.215,1019 608.974,980.205 \n",
       "  629.734,941.412 650.493,980.205 671.252,1019 692.011,1057.79 712.771,1096.58 733.53,1057.79 754.289,1019 775.049,1057.79 795.808,1096.58 816.567,1057.79 \n",
       "  837.327,1096.58 858.086,1135.38 878.845,1096.58 899.605,1057.79 920.364,1096.58 941.123,1057.79 961.882,1096.58 982.642,1057.79 1003.4,1019 1024.16,980.205 \n",
       "  1044.92,1019 1065.68,980.205 1086.44,941.412 1107.2,902.62 1127.96,863.827 1148.72,825.035 1169.48,786.242 1190.23,825.035 1210.99,786.242 1231.75,747.45 \n",
       "  1252.51,786.242 1273.27,825.035 1294.03,863.827 1314.79,825.035 1335.55,786.242 1356.31,825.035 1377.07,786.242 1397.83,747.45 1418.59,786.242 1439.35,747.45 \n",
       "  1460.11,786.242 1480.87,825.035 1501.62,786.242 1522.38,825.035 1543.14,863.827 1563.9,902.62 1584.66,863.827 1605.42,825.035 1626.18,863.827 1646.94,902.62 \n",
       "  1667.7,941.412 1688.46,980.205 1709.22,1019 1729.98,980.205 1750.74,1019 1771.5,980.205 1792.25,941.412 1813.01,980.205 1833.77,1019 1854.53,980.205 \n",
       "  1875.29,1019 1896.05,980.205 1916.81,941.412 1937.57,980.205 1958.33,1019 1979.09,980.205 1999.85,1019 2020.61,980.205 2041.37,941.412 2062.13,902.62 \n",
       "  2082.88,941.412 2103.64,980.205 2124.4,941.412 2145.16,902.62 2165.92,941.412 2186.68,902.62 2207.44,863.827 2228.2,902.62 2248.96,863.827 2269.72,902.62 \n",
       "  2290.48,941.412 \n",
       "  \"/>\n",
       "<polyline clip-path=\"url(#clip662)\" style=\"stroke:#ed5d92; stroke-width:4; stroke-opacity:1; fill:none\" points=\"\n",
       "  214.547,631.072 235.307,592.279 256.066,631.072 276.825,669.865 297.585,708.657 318.344,669.865 339.103,708.657 359.863,669.865 380.622,631.072 401.381,669.865 \n",
       "  422.141,631.072 442.9,669.865 463.659,631.072 484.418,669.865 505.178,708.657 525.937,669.865 546.696,708.657 567.456,747.45 588.215,786.242 608.974,747.45 \n",
       "  629.734,708.657 650.493,747.45 671.252,708.657 692.011,669.865 712.771,708.657 733.53,747.45 754.289,708.657 775.049,747.45 795.808,708.657 816.567,747.45 \n",
       "  837.327,708.657 858.086,669.865 878.845,708.657 899.605,669.865 920.364,708.657 941.123,669.865 961.882,631.072 982.642,592.279 1003.4,631.072 1024.16,592.279 \n",
       "  1044.92,631.072 1065.68,669.865 1086.44,708.657 1107.2,747.45 1127.96,708.657 1148.72,669.865 1169.48,708.657 1190.23,669.865 1210.99,708.657 1231.75,669.865 \n",
       "  1252.51,708.657 1273.27,669.865 1294.03,708.657 1314.79,747.45 1335.55,708.657 1356.31,747.45 1377.07,708.657 1397.83,747.45 1418.59,786.242 1439.35,825.035 \n",
       "  1460.11,863.827 1480.87,825.035 1501.62,786.242 1522.38,825.035 1543.14,786.242 1563.9,825.035 1584.66,863.827 1605.42,902.62 1626.18,941.412 1646.94,980.205 \n",
       "  1667.7,1019 1688.46,980.205 1709.22,1019 1729.98,1057.79 1750.74,1096.58 1771.5,1057.79 1792.25,1019 1813.01,1057.79 1833.77,1019 1854.53,980.205 \n",
       "  1875.29,941.412 1896.05,980.205 1916.81,1019 1937.57,980.205 1958.33,941.412 1979.09,980.205 1999.85,1019 2020.61,1057.79 2041.37,1019 2062.13,980.205 \n",
       "  2082.88,941.412 2103.64,902.62 2124.4,863.827 2145.16,902.62 2165.92,941.412 2186.68,980.205 2207.44,941.412 2228.2,980.205 2248.96,941.412 2269.72,902.62 \n",
       "  2290.48,941.412 \n",
       "  \"/>\n",
       "<polyline clip-path=\"url(#clip662)\" style=\"stroke:#c68125; stroke-width:4; stroke-opacity:1; fill:none\" points=\"\n",
       "  214.547,631.072 235.307,669.865 256.066,708.657 276.825,669.865 297.585,708.657 318.344,747.45 339.103,708.657 359.863,669.865 380.622,708.657 401.381,747.45 \n",
       "  422.141,786.242 442.9,747.45 463.659,708.657 484.418,669.865 505.178,631.072 525.937,592.279 546.696,631.072 567.456,669.865 588.215,708.657 608.974,747.45 \n",
       "  629.734,708.657 650.493,669.865 671.252,708.657 692.011,747.45 712.771,786.242 733.53,747.45 754.289,708.657 775.049,747.45 795.808,708.657 816.567,669.865 \n",
       "  837.327,708.657 858.086,747.45 878.845,708.657 899.605,669.865 920.364,631.072 941.123,592.279 961.882,553.487 982.642,514.694 1003.4,553.487 1024.16,592.279 \n",
       "  1044.92,631.072 1065.68,669.865 1086.44,631.072 1107.2,592.279 1127.96,631.072 1148.72,592.279 1169.48,631.072 1190.23,592.279 1210.99,553.487 1231.75,514.694 \n",
       "  1252.51,475.902 1273.27,514.694 1294.03,475.902 1314.79,437.109 1335.55,475.902 1356.31,437.109 1377.07,398.317 1397.83,359.524 1418.59,398.317 1439.35,437.109 \n",
       "  1460.11,475.902 1480.87,514.694 1501.62,553.487 1522.38,514.694 1543.14,553.487 1563.9,592.279 1584.66,553.487 1605.42,592.279 1626.18,553.487 1646.94,514.694 \n",
       "  1667.7,553.487 1688.46,514.694 1709.22,475.902 1729.98,514.694 1750.74,475.902 1771.5,514.694 1792.25,475.902 1813.01,514.694 1833.77,553.487 1854.53,592.279 \n",
       "  1875.29,553.487 1896.05,514.694 1916.81,475.902 1937.57,437.109 1958.33,475.902 1979.09,514.694 1999.85,475.902 2020.61,437.109 2041.37,475.902 2062.13,437.109 \n",
       "  2082.88,398.317 2103.64,359.524 2124.4,320.732 2145.16,281.939 2165.92,243.146 2186.68,204.354 2207.44,165.561 2228.2,126.769 2248.96,87.9763 2269.72,126.769 \n",
       "  2290.48,87.9763 \n",
       "  \"/>\n",
       "<polyline clip-path=\"url(#clip662)\" style=\"stroke:#00a98d; stroke-width:4; stroke-opacity:1; fill:none\" points=\"\n",
       "  214.547,631.072 235.307,669.865 256.066,631.072 276.825,669.865 297.585,631.072 318.344,592.279 339.103,553.487 359.863,514.694 380.622,475.902 401.381,514.694 \n",
       "  422.141,475.902 442.9,514.694 463.659,475.902 484.418,514.694 505.178,475.902 525.937,514.694 546.696,475.902 567.456,514.694 588.215,553.487 608.974,592.279 \n",
       "  629.734,631.072 650.493,669.865 671.252,631.072 692.011,592.279 712.771,553.487 733.53,592.279 754.289,553.487 775.049,592.279 795.808,631.072 816.567,592.279 \n",
       "  837.327,631.072 858.086,592.279 878.845,631.072 899.605,592.279 920.364,553.487 941.123,592.279 961.882,553.487 982.642,592.279 1003.4,553.487 1024.16,514.694 \n",
       "  1044.92,475.902 1065.68,514.694 1086.44,553.487 1107.2,592.279 1127.96,631.072 1148.72,669.865 1169.48,708.657 1190.23,669.865 1210.99,708.657 1231.75,669.865 \n",
       "  1252.51,708.657 1273.27,747.45 1294.03,786.242 1314.79,825.035 1335.55,863.827 1356.31,902.62 1377.07,863.827 1397.83,902.62 1418.59,863.827 1439.35,902.62 \n",
       "  1460.11,941.412 1480.87,902.62 1501.62,941.412 1522.38,902.62 1543.14,863.827 1563.9,825.035 1584.66,863.827 1605.42,825.035 1626.18,863.827 1646.94,825.035 \n",
       "  1667.7,863.827 1688.46,825.035 1709.22,786.242 1729.98,747.45 1750.74,708.657 1771.5,669.865 1792.25,631.072 1813.01,669.865 1833.77,708.657 1854.53,669.865 \n",
       "  1875.29,631.072 1896.05,592.279 1916.81,553.487 1937.57,514.694 1958.33,475.902 1979.09,437.109 1999.85,398.317 2020.61,359.524 2041.37,320.732 2062.13,281.939 \n",
       "  2082.88,243.146 2103.64,281.939 2124.4,320.732 2145.16,359.524 2165.92,398.317 2186.68,437.109 2207.44,475.902 2228.2,514.694 2248.96,553.487 2269.72,514.694 \n",
       "  2290.48,553.487 \n",
       "  \"/>\n",
       "<polyline clip-path=\"url(#clip662)\" style=\"stroke:#8e971d; stroke-width:4; stroke-opacity:1; fill:none\" points=\"\n",
       "  214.547,631.072 235.307,669.865 256.066,708.657 276.825,747.45 297.585,708.657 318.344,747.45 339.103,786.242 359.863,825.035 380.622,863.827 401.381,825.035 \n",
       "  422.141,863.827 442.9,825.035 463.659,786.242 484.418,825.035 505.178,786.242 525.937,825.035 546.696,786.242 567.456,825.035 588.215,863.827 608.974,902.62 \n",
       "  629.734,863.827 650.493,902.62 671.252,863.827 692.011,902.62 712.771,863.827 733.53,902.62 754.289,941.412 775.049,902.62 795.808,863.827 816.567,902.62 \n",
       "  837.327,863.827 858.086,902.62 878.845,941.412 899.605,980.205 920.364,1019 941.123,980.205 961.882,941.412 982.642,980.205 1003.4,941.412 1024.16,980.205 \n",
       "  1044.92,1019 1065.68,1057.79 1086.44,1019 1107.2,1057.79 1127.96,1096.58 1148.72,1057.79 1169.48,1019 1190.23,1057.79 1210.99,1019 1231.75,1057.79 \n",
       "  1252.51,1019 1273.27,980.205 1294.03,941.412 1314.79,902.62 1335.55,863.827 1356.31,902.62 1377.07,941.412 1397.83,980.205 1418.59,1019 1439.35,980.205 \n",
       "  1460.11,1019 1480.87,980.205 1501.62,1019 1522.38,1057.79 1543.14,1019 1563.9,980.205 1584.66,941.412 1605.42,980.205 1626.18,1019 1646.94,1057.79 \n",
       "  1667.7,1096.58 1688.46,1057.79 1709.22,1019 1729.98,980.205 1750.74,1019 1771.5,980.205 1792.25,1019 1813.01,1057.79 1833.77,1096.58 1854.53,1057.79 \n",
       "  1875.29,1096.58 1896.05,1135.38 1916.81,1096.58 1937.57,1135.38 1958.33,1096.58 1979.09,1135.38 1999.85,1096.58 2020.61,1057.79 2041.37,1096.58 2062.13,1057.79 \n",
       "  2082.88,1096.58 2103.64,1135.38 2124.4,1174.17 2145.16,1135.38 2165.92,1096.58 2186.68,1057.79 2207.44,1096.58 2228.2,1057.79 2248.96,1096.58 2269.72,1057.79 \n",
       "  2290.48,1019 \n",
       "  \"/>\n",
       "</svg>\n"
      ]
     },
     "execution_count": 44,
     "metadata": {},
     "output_type": "execute_result"
    }
   ],
   "source": [
    "p = plot(legend=false)  # turn off the legend/key\n",
    "\n",
    "for i in 1:10\n",
    "    plot!(walk(100))  # plot! adds to the existing plot (modify existing plot)end\n",
    "end\n",
    "\n",
    "plot!()\n",
    "# p"
   ]
  },
  {
   "cell_type": "code",
   "execution_count": 45,
   "metadata": {},
   "outputs": [
    {
     "ename": "ArgumentError",
     "evalue": "ArgumentError: Package PlotlyJS not found in current path:\n- Run `import Pkg; Pkg.add(\"PlotlyJS\")` to install the PlotlyJS package.\n",
     "output_type": "error",
     "traceback": [
      "ArgumentError: Package PlotlyJS not found in current path:\n- Run `import Pkg; Pkg.add(\"PlotlyJS\")` to install the PlotlyJS package.\n",
      "",
      "Stacktrace:",
      " [1] require(::Module, ::Symbol) at ./loading.jl:892",
      " [2] top-level scope at /Users/dpsanders/.julia/packages/Plots/lIZ4V/src/backends.jl:492",
      " [3] eval at ./boot.jl:331 [inlined]",
      " [4] _initialize_backend(::Plots.PlotlyJSBackend) at /Users/dpsanders/.julia/packages/Plots/lIZ4V/src/backends.jl:491",
      " [5] backend at /Users/dpsanders/.julia/packages/Plots/lIZ4V/src/backends.jl:176 [inlined]",
      " [6] plotlyjs(; kw::Base.Iterators.Pairs{Union{},Union{},Tuple{},NamedTuple{(),Tuple{}}}) at /Users/dpsanders/.julia/packages/Plots/lIZ4V/src/backends.jl:33",
      " [7] plotlyjs() at /Users/dpsanders/.julia/packages/Plots/lIZ4V/src/backends.jl:33",
      " [8] top-level scope at In[45]:1"
     ]
    }
   ],
   "source": [
    "plotlyjs()"
   ]
  },
  {
   "cell_type": "markdown",
   "metadata": {},
   "source": [
    "## Generic programming"
   ]
  },
  {
   "cell_type": "markdown",
   "metadata": {},
   "source": [
    "But now how could we do a 2D walker?\n",
    "We hard-coded the function names inside `walk`, so we would have to redefine the functions using the same name.\n",
    "But if we do so, they would *overwrite* (replace) the 1D version, which would thus no longer be usable."
   ]
  },
  {
   "cell_type": "markdown",
   "metadata": {},
   "source": [
    "Let's write versions of the functions for the 2D walker, e.g. using `Vector`s:"
   ]
  },
  {
   "cell_type": "code",
   "execution_count": 46,
   "metadata": {},
   "outputs": [
    {
     "data": {
      "text/plain": [
       "move_2D (generic function with 1 method)"
      ]
     },
     "execution_count": 46,
     "metadata": {},
     "output_type": "execute_result"
    }
   ],
   "source": [
    "initialize_2D() = [0, 0]\n",
    "\n",
    "move_2D(x) = [ x[1] + random_jump(), x[2] + random_jump() ]  # x is a vector"
   ]
  },
  {
   "cell_type": "markdown",
   "metadata": {},
   "source": [
    "(Note that we could write"
   ]
  },
  {
   "cell_type": "code",
   "execution_count": null,
   "metadata": {},
   "outputs": [],
   "source": [
    "move_2D(x) = [ move(x[1]), move(x[2]) ] "
   ]
  },
  {
   "cell_type": "markdown",
   "metadata": {},
   "source": [
    ")"
   ]
  },
  {
   "cell_type": "code",
   "execution_count": 47,
   "metadata": {},
   "outputs": [
    {
     "data": {
      "text/plain": [
       "2-element Array{Int64,1}:\n",
       " 0\n",
       " 0"
      ]
     },
     "execution_count": 47,
     "metadata": {},
     "output_type": "execute_result"
    }
   ],
   "source": [
    "initialize_2D()"
   ]
  },
  {
   "cell_type": "code",
   "execution_count": 48,
   "metadata": {},
   "outputs": [
    {
     "data": {
      "text/plain": [
       "2-element Array{Int64,1}:\n",
       " -1\n",
       "  1"
      ]
     },
     "execution_count": 48,
     "metadata": {},
     "output_type": "execute_result"
    }
   ],
   "source": [
    "move_2D([0, 0])"
   ]
  },
  {
   "cell_type": "markdown",
   "metadata": {},
   "source": [
    "Note: For short vectors of fixed length like this, you should use `SVector`s from the [`StaticArrays.jl`](https://github.com/JuliaArrays/StaticArrays.jl) package to get much better performance. Exercise!"
   ]
  },
  {
   "cell_type": "markdown",
   "metadata": {},
   "source": [
    "How can we use these new functions, which have the *wrong name*, inside our `walk` function?"
   ]
  },
  {
   "cell_type": "markdown",
   "metadata": {},
   "source": [
    "The key **idea** is that we want to call these new functions when `initialize` and `move` are called inside `walk`.\n",
    "To do so we can *pass these functions as arguments* to `walk`!:"
   ]
  },
  {
   "cell_type": "code",
   "execution_count": 51,
   "metadata": {},
   "outputs": [
    {
     "data": {
      "text/plain": [
       "walk (generic function with 2 methods)"
      ]
     },
     "execution_count": 51,
     "metadata": {},
     "output_type": "execute_result"
    }
   ],
   "source": [
    "function walk(initialize, move, T)\n",
    "    pos = initialize()\n",
    "    \n",
    "    trajectory = [pos]\n",
    "    \n",
    "    for t in 1:T\n",
    "        pos = move(pos)               # *update* the value pointed to by `pos`\n",
    "        push!(trajectory, deepcopy(pos))  # at the cost of needing to copy `pos` when we store it if it is a vector\n",
    "    end\n",
    "    \n",
    "    return trajectory\n",
    "end"
   ]
  },
  {
   "cell_type": "code",
   "execution_count": 50,
   "metadata": {},
   "outputs": [
    {
     "data": {
      "text/html": [
       "# 2 methods for generic function <b>walk</b>:<ul><li> walk(T) in Main at In[4]:3</li> <li> walk(initialize, move, T) in Main at In[49]:2</li> </ul>"
      ],
      "text/plain": [
       "# 2 methods for generic function \"walk\":\n",
       "[1] walk(T) in Main at In[4]:3\n",
       "[2] walk(initialize, move, T) in Main at In[49]:2"
      ]
     },
     "execution_count": 50,
     "metadata": {},
     "output_type": "execute_result"
    }
   ],
   "source": [
    "methods(walk)"
   ]
  },
  {
   "cell_type": "markdown",
   "metadata": {},
   "source": [
    "Julia informs us that there are now 2 **methods** (versions) of the `walk` function:"
   ]
  },
  {
   "cell_type": "code",
   "execution_count": null,
   "metadata": {},
   "outputs": [],
   "source": [
    "methods(walk)"
   ]
  },
  {
   "cell_type": "markdown",
   "metadata": {},
   "source": [
    "Passing in the 2D functions behaves as we hoped and gives us a 2D walk!:"
   ]
  },
  {
   "cell_type": "code",
   "execution_count": 53,
   "metadata": {},
   "outputs": [
    {
     "data": {
      "text/plain": [
       "11-element Array{Array{Int64,1},1}:\n",
       " [0, 0]\n",
       " [1, -1]\n",
       " [2, 0]\n",
       " [1, -1]\n",
       " [2, -2]\n",
       " [3, -1]\n",
       " [2, -2]\n",
       " [3, -1]\n",
       " [2, -2]\n",
       " [3, -1]\n",
       " [2, -2]"
      ]
     },
     "execution_count": 53,
     "metadata": {},
     "output_type": "execute_result"
    }
   ],
   "source": [
    "trajectory = walk(initialize_2D, move_2D, 10)"
   ]
  },
  {
   "cell_type": "code",
   "execution_count": 54,
   "metadata": {},
   "outputs": [
    {
     "data": {
      "text/plain": [
       "2-element Array{Int64,1}:\n",
       " 0\n",
       " 0"
      ]
     },
     "execution_count": 54,
     "metadata": {},
     "output_type": "execute_result"
    }
   ],
   "source": [
    "trajectory[1]"
   ]
  },
  {
   "cell_type": "markdown",
   "metadata": {},
   "source": [
    "Why is `copy` necessary inside `walk`? It's because of how Julia thinks of variables. A variable is a name that \"points to\" an object. Suppose I do the following:"
   ]
  },
  {
   "cell_type": "code",
   "execution_count": null,
   "metadata": {},
   "outputs": [],
   "source": [
    "a = [1, 2]\n",
    "v = [a]"
   ]
  },
  {
   "cell_type": "code",
   "execution_count": null,
   "metadata": {},
   "outputs": [],
   "source": [
    "a[1] = 5"
   ]
  },
  {
   "cell_type": "code",
   "execution_count": null,
   "metadata": {},
   "outputs": [],
   "source": [
    "push!(v, a)"
   ]
  },
  {
   "cell_type": "markdown",
   "metadata": {},
   "source": [
    "You can see that we end up with two copies of the *same* object, instead of the original value and the modified value. This is because the mutable objects stored inside `v` are really just the *names* of the same object."
   ]
  },
  {
   "cell_type": "code",
   "execution_count": 55,
   "metadata": {},
   "outputs": [
    {
     "data": {
      "text/plain": [
       "11-element Array{Array{Int64,1},1}:\n",
       " [0, 0]\n",
       " [-1, 1]\n",
       " [-2, 2]\n",
       " [-3, 3]\n",
       " [-4, 4]\n",
       " [-3, 3]\n",
       " [-4, 2]\n",
       " [-3, 1]\n",
       " [-2, 2]\n",
       " [-3, 3]\n",
       " [-2, 2]"
      ]
     },
     "execution_count": 55,
     "metadata": {},
     "output_type": "execute_result"
    }
   ],
   "source": [
    "trajectory = walk(initialize_2D, move_2D, 10)"
   ]
  },
  {
   "cell_type": "code",
   "execution_count": 57,
   "metadata": {},
   "outputs": [
    {
     "ename": "MethodError",
     "evalue": "MethodError: no method matching initialize(::Int64)\nClosest candidates are:\n  initialize() at In[34]:3",
     "output_type": "error",
     "traceback": [
      "MethodError: no method matching initialize(::Int64)\nClosest candidates are:\n  initialize() at In[34]:3",
      "",
      "Stacktrace:",
      " [1] top-level scope at In[57]:2"
     ]
    }
   ],
   "source": [
    "w1 = initialize()\n",
    "w2 = initialize(2)"
   ]
  },
  {
   "cell_type": "code",
   "execution_count": null,
   "metadata": {},
   "outputs": [],
   "source": []
  },
  {
   "cell_type": "markdown",
   "metadata": {},
   "source": [
    "## Two walkers"
   ]
  },
  {
   "cell_type": "markdown",
   "metadata": {},
   "source": [
    "#### Exercise: \n",
    "\n",
    "1. Suppose there are two walkers in 1D, one of which starts at position 0 and the other of which starts at position 2. How long does it take for them to meet each other, i.e. to land on the same location? Write a function `encounter` that runs *until* they meet each other. \n",
    "\n",
    "\n",
    "2. Run this function many times and accumulate the resulting times in a vector.\n",
    "\n",
    "\n",
    "3. Plot the histogram of the result. How does it behave?\n",
    "\n",
    "\n",
    "4. How do these results change if the walkers live inside a box, e.g. from -20 to 20. At the ends of the box if they try to jump outside the box they \"bounce back\" and stay at the same location."
   ]
  },
  {
   "cell_type": "markdown",
   "metadata": {},
   "source": []
  },
  {
   "cell_type": "code",
   "execution_count": 58,
   "metadata": {},
   "outputs": [
    {
     "data": {
      "text/plain": [
       "initialize (generic function with 2 methods)"
      ]
     },
     "execution_count": 58,
     "metadata": {},
     "output_type": "execute_result"
    }
   ],
   "source": [
    "initialize(x) = x"
   ]
  },
  {
   "cell_type": "code",
   "execution_count": 59,
   "metadata": {},
   "outputs": [
    {
     "data": {
      "text/plain": [
       "2"
      ]
     },
     "execution_count": 59,
     "metadata": {},
     "output_type": "execute_result"
    }
   ],
   "source": [
    "w1 = initialize()\n",
    "w2 = initialize(2)"
   ]
  },
  {
   "cell_type": "markdown",
   "metadata": {},
   "source": [
    "At each step:"
   ]
  },
  {
   "cell_type": "code",
   "execution_count": 60,
   "metadata": {},
   "outputs": [
    {
     "data": {
      "text/plain": [
       "3"
      ]
     },
     "execution_count": 60,
     "metadata": {},
     "output_type": "execute_result"
    }
   ],
   "source": [
    "w1 = move(w1)\n",
    "w2 = move(w2)"
   ]
  },
  {
   "cell_type": "markdown",
   "metadata": {},
   "source": [
    "Now compare their positions to see if they have met yet."
   ]
  },
  {
   "cell_type": "markdown",
   "metadata": {},
   "source": [
    "### Counting when a walker passes through a point"
   ]
  },
  {
   "cell_type": "markdown",
   "metadata": {},
   "source": [
    "w = 3\n",
    "\n",
    "How many times does w pass through the origin up to some final time?"
   ]
  },
  {
   "cell_type": "markdown",
   "metadata": {},
   "source": [
    "Now suppose we would like a random walker to have some \"knowledge\", for example, we want it to keep track of how many times it has passed through the origin. This is data that we somehow want to \"associate to\" the walker, which will need to be stored in a variable somewhere. The walker should be able to \"remember\" and modify this information. \n",
    "\n",
    "In our above formulation it is not clear how to do this. We need to set up this variable to contain the initial position in the `initialize` function, and then update it in the `move` function, so this data needs to be shared between these two functions.\n",
    "\n",
    "There are two common ways to deal with this:\n",
    "\n",
    "- **Global variables**, which live outside any function and are updated inside each function. However, this means that the functions can no longer be understood just by looking at their definition, and it allows outside influences to modify the data.\n",
    "\n",
    "    > Global variables make bad code that is hard to read and understand. Avoid them!\n",
    "\n",
    "- **Pass the data as an additional parameter** to each function. Unfortunately this will require modifying the surrounding code where the functions are called."
   ]
  },
  {
   "cell_type": "markdown",
   "metadata": {},
   "source": [
    "An apparent partial solution to this is to use a **`let` block**. This is a technique that allows us to create a new **scope** and a local variable that exists only inside that scope:"
   ]
  },
  {
   "cell_type": "code",
   "execution_count": null,
   "metadata": {},
   "outputs": [],
   "source": [
    "let x=0 \n",
    "    \n",
    "    global init(s) = x = s   # this looks strange, but the first `=` defines the function\n",
    "                             # the second `=` is in the body of the function\n",
    "    \n",
    "    global move() = x += 1\n",
    "    \n",
    "    global current() = x\n",
    "    \n",
    "end"
   ]
  },
  {
   "cell_type": "code",
   "execution_count": null,
   "metadata": {
    "scrolled": true
   },
   "outputs": [],
   "source": [
    "init(3)"
   ]
  },
  {
   "cell_type": "code",
   "execution_count": null,
   "metadata": {},
   "outputs": [],
   "source": [
    "move()"
   ]
  },
  {
   "cell_type": "code",
   "execution_count": null,
   "metadata": {},
   "outputs": [],
   "source": [
    "move()"
   ]
  },
  {
   "cell_type": "code",
   "execution_count": null,
   "metadata": {},
   "outputs": [],
   "source": [
    "current()"
   ]
  },
  {
   "cell_type": "code",
   "execution_count": null,
   "metadata": {},
   "outputs": [],
   "source": [
    "init(3)"
   ]
  },
  {
   "cell_type": "code",
   "execution_count": null,
   "metadata": {},
   "outputs": [],
   "source": [
    "move()"
   ]
  },
  {
   "cell_type": "code",
   "execution_count": null,
   "metadata": {},
   "outputs": [],
   "source": [
    "x   # doesn't exist here: it exists only inside the let block"
   ]
  },
  {
   "cell_type": "markdown",
   "metadata": {},
   "source": [
    "This seems like a great solution! That is, until you ask the question \"how can I make a second, independent walker?\". You can't, since as soon as you call `initialize()` again, you reset the value of `x`."
   ]
  },
  {
   "cell_type": "markdown",
   "metadata": {},
   "source": [
    "Then you would probably start thinking about an array where you store the position of each walker, which is certainly doable.\n",
    "But probably you are starting to get the feeling that there should be a better solution, where we can make different walkers and refer to them individually."
   ]
  },
  {
   "cell_type": "code",
   "execution_count": null,
   "metadata": {},
   "outputs": [],
   "source": []
  }
 ],
 "metadata": {
  "@webio": {
   "lastCommId": null,
   "lastKernelId": null
  },
  "kernelspec": {
   "display_name": "Julia 1.4.2",
   "language": "julia",
   "name": "julia-1.4"
  },
  "language_info": {
   "file_extension": ".jl",
   "mimetype": "application/julia",
   "name": "julia",
   "version": "1.4.2"
  }
 },
 "nbformat": 4,
 "nbformat_minor": 4
}
