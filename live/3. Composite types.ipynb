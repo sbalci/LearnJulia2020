{
 "cells": [
  {
   "cell_type": "markdown",
   "metadata": {},
   "source": [
    "# 3. Composite types "
   ]
  },
  {
   "cell_type": "markdown",
   "metadata": {},
   "source": [
    "In the previous notebook we began to see the need for a way to be able to describe objects that we are modelling in code, in such a way that the objects can have internal properties which are grouped together in one place.\n",
    "\n",
    "Our main goal will be to model a person who can move *and* has an infection status, telling us whether they are susceptible, infectious or recovered. We could also add other information, such as how many times it has passed through 0 or which direction it moved on the previous step."
   ]
  },
  {
   "cell_type": "markdown",
   "metadata": {},
   "source": [
    "## The main idea"
   ]
  },
  {
   "cell_type": "markdown",
   "metadata": {},
   "source": [
    "The main **idea** is to collect up or **aggregate** all relevant information into a new data structure, called a **composite type** (or custom type, aggregate type, user-defined type, ...).\n",
    "\n",
    "Basically we want to be able to specify the \"template\" / \"shape\" / \"structure\" for a bag or box that will contain all the relevant information; this specification is the type itself. Then we need to produce objects which have that structure, i.e. which *contain* the corresponding variables; these are called **instances**."
   ]
  },
  {
   "cell_type": "markdown",
   "metadata": {
    "slideshow": {
     "slide_type": "slide"
    }
   },
   "source": [
    "In Julia this is accomplished using the `struct` keyword (short for \"structure\"). For example, we can make an object that contains the $x$ and $y$ coordinates of a walker in 2 dimensions as"
   ]
  },
  {
   "cell_type": "code",
   "execution_count": 1,
   "metadata": {},
   "outputs": [],
   "source": [
    "struct Walker2D\n",
    "    x::Int64\n",
    "    y::Int64\n",
    "end"
   ]
  },
  {
   "cell_type": "markdown",
   "metadata": {},
   "source": [
    "What is `Walker2D`? It is the name of a new *type*:"
   ]
  },
  {
   "cell_type": "code",
   "execution_count": 2,
   "metadata": {},
   "outputs": [
    {
     "data": {
      "text/plain": [
       "Walker2D"
      ]
     },
     "execution_count": 2,
     "metadata": {},
     "output_type": "execute_result"
    }
   ],
   "source": [
    "Walker2D"
   ]
  },
  {
   "cell_type": "markdown",
   "metadata": {},
   "source": [
    "It is also the name of a pair of functions that Julia has automatically created for us:"
   ]
  },
  {
   "cell_type": "code",
   "execution_count": 3,
   "metadata": {},
   "outputs": [
    {
     "data": {
      "text/html": [
       "# 2 methods for type constructor:<ul><li> Walker2D(x::<b>Int64</b>, y::<b>Int64</b>) in Main at In[1]:2</li> <li> Walker2D(x, y) in Main at In[1]:2</li> </ul>"
      ],
      "text/plain": [
       "# 2 methods for type constructor:\n",
       "[1] Walker2D(x::Int64, y::Int64) in Main at In[1]:2\n",
       "[2] Walker2D(x, y) in Main at In[1]:2"
      ]
     },
     "execution_count": 3,
     "metadata": {},
     "output_type": "execute_result"
    }
   ],
   "source": [
    "methods(Walker2D)"
   ]
  },
  {
   "cell_type": "markdown",
   "metadata": {},
   "source": [
    "These functions are used to create or construct objects of this type; they are called **constructors**. For example:"
   ]
  },
  {
   "cell_type": "code",
   "execution_count": 4,
   "metadata": {},
   "outputs": [
    {
     "data": {
      "text/plain": [
       "Walker2D(1, 2)"
      ]
     },
     "execution_count": 4,
     "metadata": {},
     "output_type": "execute_result"
    }
   ],
   "source": [
    "w = Walker2D(1, 2)"
   ]
  },
  {
   "cell_type": "code",
   "execution_count": 5,
   "metadata": {},
   "outputs": [
    {
     "data": {
      "text/plain": [
       "Walker2D(1, 2)"
      ]
     },
     "execution_count": 5,
     "metadata": {},
     "output_type": "execute_result"
    }
   ],
   "source": [
    "w"
   ]
  },
  {
   "cell_type": "code",
   "execution_count": 6,
   "metadata": {},
   "outputs": [
    {
     "data": {
      "text/plain": [
       "Walker2D"
      ]
     },
     "execution_count": 6,
     "metadata": {},
     "output_type": "execute_result"
    }
   ],
   "source": [
    "typeof(w)"
   ]
  },
  {
   "cell_type": "markdown",
   "metadata": {},
   "source": [
    "This has created an object `w`, of type `Walker2D`. "
   ]
  },
  {
   "cell_type": "code",
   "execution_count": null,
   "metadata": {},
   "outputs": [],
   "source": [
    "w"
   ]
  },
  {
   "cell_type": "code",
   "execution_count": null,
   "metadata": {},
   "outputs": [],
   "source": [
    "typeof(w)"
   ]
  },
  {
   "cell_type": "markdown",
   "metadata": {},
   "source": [
    "The `x` and `y` coordinates of the walker are the **fields**. They live inside the object and can be accessed using the `.` operator:"
   ]
  },
  {
   "cell_type": "code",
   "execution_count": 7,
   "metadata": {},
   "outputs": [
    {
     "data": {
      "text/plain": [
       "1"
      ]
     },
     "execution_count": 7,
     "metadata": {},
     "output_type": "execute_result"
    }
   ],
   "source": [
    "w.x"
   ]
  },
  {
   "cell_type": "code",
   "execution_count": 8,
   "metadata": {},
   "outputs": [
    {
     "data": {
      "text/plain": [
       "2"
      ]
     },
     "execution_count": 8,
     "metadata": {},
     "output_type": "execute_result"
    }
   ],
   "source": [
    "w.y"
   ]
  },
  {
   "cell_type": "markdown",
   "metadata": {},
   "source": [
    "We can create another walker by calling the constructor again:"
   ]
  },
  {
   "cell_type": "code",
   "execution_count": 9,
   "metadata": {},
   "outputs": [
    {
     "data": {
      "text/plain": [
       "Walker2D(3, 4)"
      ]
     },
     "execution_count": 9,
     "metadata": {},
     "output_type": "execute_result"
    }
   ],
   "source": [
    "w2 = Walker2D(3, 4)"
   ]
  },
  {
   "cell_type": "markdown",
   "metadata": {},
   "source": [
    "It's fields are different:"
   ]
  },
  {
   "cell_type": "code",
   "execution_count": 10,
   "metadata": {},
   "outputs": [
    {
     "data": {
      "text/plain": [
       "3"
      ]
     },
     "execution_count": 10,
     "metadata": {},
     "output_type": "execute_result"
    }
   ],
   "source": [
    "w2.x"
   ]
  },
  {
   "cell_type": "code",
   "execution_count": 11,
   "metadata": {},
   "outputs": [
    {
     "data": {
      "text/plain": [
       "4"
      ]
     },
     "execution_count": 11,
     "metadata": {},
     "output_type": "execute_result"
    }
   ],
   "source": [
    "w2.y"
   ]
  },
  {
   "cell_type": "markdown",
   "metadata": {},
   "source": [
    "Let's verify that `w`s data is still the same as it was:"
   ]
  },
  {
   "cell_type": "code",
   "execution_count": 12,
   "metadata": {},
   "outputs": [
    {
     "data": {
      "text/plain": [
       "(1, 2)"
      ]
     },
     "execution_count": 12,
     "metadata": {},
     "output_type": "execute_result"
    }
   ],
   "source": [
    "w.x, w.y"
   ]
  },
  {
   "cell_type": "markdown",
   "metadata": {},
   "source": [
    "So we see that this mechanism successfully allows us to create *different* objects of the same type. We can really now talk about having \"two separate walkers\" in our code, in a way that accurately reflects the situation we are trying to model."
   ]
  },
  {
   "cell_type": "markdown",
   "metadata": {},
   "source": [
    "## (Outer) constructors"
   ]
  },
  {
   "cell_type": "markdown",
   "metadata": {},
   "source": [
    "Suppose we want walkers to be born at the origin unless otherwise stated. We don't want to have to write `Walker2D(0, 0)` each time; we would like to just write `Walker2D()`. In other words, we want to *add a new method* to the function `Walker2D`:"
   ]
  },
  {
   "cell_type": "code",
   "execution_count": 13,
   "metadata": {},
   "outputs": [
    {
     "data": {
      "text/plain": [
       "Walker2D"
      ]
     },
     "execution_count": 13,
     "metadata": {},
     "output_type": "execute_result"
    }
   ],
   "source": [
    "Walker2D() = Walker2D(0, 0)"
   ]
  },
  {
   "cell_type": "code",
   "execution_count": 14,
   "metadata": {},
   "outputs": [
    {
     "data": {
      "text/plain": [
       "Walker2D(0, 0)"
      ]
     },
     "execution_count": 14,
     "metadata": {},
     "output_type": "execute_result"
    }
   ],
   "source": [
    "Walker2D()"
   ]
  },
  {
   "cell_type": "markdown",
   "metadata": {},
   "source": [
    "We can see that indeed a new method was created using the `methods` function:"
   ]
  },
  {
   "cell_type": "code",
   "execution_count": null,
   "metadata": {},
   "outputs": [],
   "source": [
    "methods(Walker2D)"
   ]
  },
  {
   "cell_type": "markdown",
   "metadata": {},
   "source": [
    "Such a constructor is called an **outer constructor**, since it lives *outside* the definition of the type. [There are also inner constructors, which are used *only* if, for example, you want to be able to prevent creating objects which are invalid under some criterion. Prefer outer constructors whenever possible.]"
   ]
  },
  {
   "cell_type": "code",
   "execution_count": 17,
   "metadata": {},
   "outputs": [
    {
     "ename": "MethodError",
     "evalue": "MethodError: no method matching Walker2D(::Int64, ::Int64, ::Int64)\nClosest candidates are:\n  Walker2D(::Int64, ::Int64) at In[1]:2\n  Walker2D(::Any, ::Any) at In[1]:2",
     "output_type": "error",
     "traceback": [
      "MethodError: no method matching Walker2D(::Int64, ::Int64, ::Int64)\nClosest candidates are:\n  Walker2D(::Int64, ::Int64) at In[1]:2\n  Walker2D(::Any, ::Any) at In[1]:2",
      "",
      "Stacktrace:",
      " [1] top-level scope at In[17]:1"
     ]
    }
   ],
   "source": [
    "Walker2D(1, 2, 3)"
   ]
  },
  {
   "cell_type": "code",
   "execution_count": 15,
   "metadata": {},
   "outputs": [
    {
     "data": {
      "text/html": [
       "Walker2D(x, y) in Main at In[1]:2"
      ],
      "text/plain": [
       "Walker2D(x, y) in Main at In[1]:2"
      ]
     },
     "execution_count": 15,
     "metadata": {},
     "output_type": "execute_result"
    }
   ],
   "source": [
    "@which Walker2D(1.0, 2.0)"
   ]
  },
  {
   "cell_type": "code",
   "execution_count": 16,
   "metadata": {},
   "outputs": [
    {
     "data": {
      "text/html": [
       "# 3 methods for type constructor:<ul><li> Walker2D() in Main at In[13]:1</li> <li> Walker2D(x::<b>Int64</b>, y::<b>Int64</b>) in Main at In[1]:2</li> <li> Walker2D(x, y) in Main at In[1]:2</li> </ul>"
      ],
      "text/plain": [
       "# 3 methods for type constructor:\n",
       "[1] Walker2D() in Main at In[13]:1\n",
       "[2] Walker2D(x::Int64, y::Int64) in Main at In[1]:2\n",
       "[3] Walker2D(x, y) in Main at In[1]:2"
      ]
     },
     "execution_count": 16,
     "metadata": {},
     "output_type": "execute_result"
    }
   ],
   "source": [
    "methods(Walker2D)"
   ]
  },
  {
   "cell_type": "code",
   "execution_count": 18,
   "metadata": {},
   "outputs": [
    {
     "data": {
      "text/plain": [
       "Walker2D(1, 2)"
      ]
     },
     "execution_count": 18,
     "metadata": {},
     "output_type": "execute_result"
    }
   ],
   "source": [
    "Walker2D(1.0, 2.0)"
   ]
  },
  {
   "cell_type": "code",
   "execution_count": 19,
   "metadata": {},
   "outputs": [
    {
     "ename": "InexactError",
     "evalue": "InexactError: Int64(1.1)",
     "output_type": "error",
     "traceback": [
      "InexactError: Int64(1.1)",
      "",
      "Stacktrace:",
      " [1] Int64 at ./float.jl:710 [inlined]",
      " [2] convert at ./number.jl:7 [inlined]",
      " [3] Walker2D(::Float64, ::Float64) at ./In[1]:2",
      " [4] top-level scope at In[19]:1"
     ]
    }
   ],
   "source": [
    "Walker2D(1.1, 2.2)"
   ]
  },
  {
   "cell_type": "code",
   "execution_count": 20,
   "metadata": {},
   "outputs": [
    {
     "data": {
      "text/plain": [
       "1"
      ]
     },
     "execution_count": 20,
     "metadata": {},
     "output_type": "execute_result"
    }
   ],
   "source": [
    "round(Int, 1.1)"
   ]
  },
  {
   "cell_type": "markdown",
   "metadata": {},
   "source": [
    "\n",
    "## Making walkers move"
   ]
  },
  {
   "cell_type": "markdown",
   "metadata": {},
   "source": [
    "Now we would like to make a walker move. We might think this would be easy: we should just modify one of its fields. However:"
   ]
  },
  {
   "cell_type": "code",
   "execution_count": 21,
   "metadata": {},
   "outputs": [
    {
     "data": {
      "text/plain": [
       "Walker2D(1, 2)"
      ]
     },
     "execution_count": 21,
     "metadata": {},
     "output_type": "execute_result"
    }
   ],
   "source": [
    "w"
   ]
  },
  {
   "cell_type": "code",
   "execution_count": 22,
   "metadata": {},
   "outputs": [
    {
     "ename": "ErrorException",
     "evalue": "setfield! immutable struct of type Walker2D cannot be changed",
     "output_type": "error",
     "traceback": [
      "setfield! immutable struct of type Walker2D cannot be changed",
      "",
      "Stacktrace:",
      " [1] setproperty!(::Walker2D, ::Symbol, ::Int64) at ./Base.jl:34",
      " [2] top-level scope at In[22]:1"
     ]
    }
   ],
   "source": [
    "w.x = 10"
   ]
  },
  {
   "cell_type": "markdown",
   "metadata": {},
   "source": [
    "[`setfield!` is the function that is called when we try to change a field.]\n",
    "\n",
    "We are not allowed to modify the fields because we defined `Walker2D` as an **immutable** `struct`. \n",
    "\"Mutation\" is a computer science term, referring to the ability to modify an object. `struct`s are immutable (non-modifiable) in Julia by default. Usually you will have better performance if you are able to use immutable `struct`s. [Technically, they are probably stored on the stack, instead of the heap.]"
   ]
  },
  {
   "cell_type": "markdown",
   "metadata": {},
   "source": [
    "So in order to make our walker move, we need to create a *new* object with the new position. This could seem expensive, but in fact the Julia compiler will often be able to completely remove this object creation and produce code that is just as efficient as if there were no object at all!"
   ]
  },
  {
   "cell_type": "markdown",
   "metadata": {},
   "source": [
    "#### Exercise\n",
    "1. Make a function `move_right` that takes a `Walker2D` as argument. It returns a new walker, located one step to the right.\n",
    "\n",
    "2. Make a function `jump` that takes a `Walker2D` as argument and makes it move to a random adjacent location. You should choose either the $x$ or $y$ coordinate at random, and move that coordinate by 1 step in a random direction."
   ]
  },
  {
   "cell_type": "code",
   "execution_count": 23,
   "metadata": {},
   "outputs": [
    {
     "data": {
      "text/plain": [
       "move_right (generic function with 1 method)"
      ]
     },
     "execution_count": 23,
     "metadata": {},
     "output_type": "execute_result"
    }
   ],
   "source": [
    "move_right(w::Walker2D) = Walker2D(w.x + 1, w.y)"
   ]
  },
  {
   "cell_type": "markdown",
   "metadata": {},
   "source": [
    "The syntax `::Walker2D` means that we are *restricting* this method of `move_right` to work *only* when the object being passed in is of type `Walker2D`."
   ]
  },
  {
   "cell_type": "markdown",
   "metadata": {},
   "source": [
    "In Julia, variables are names that are associated to values, i.e. they are **bindings** that \"point to\" objects located in memory. [Strictly speaking, the object may not actually have a physical location in memory; it may just live inside the CPU's registers. In fact, this is the best situation for performance.]\n",
    "\n",
    "We can update the binding by assigning a new object to that variable name:"
   ]
  },
  {
   "cell_type": "code",
   "execution_count": 25,
   "metadata": {},
   "outputs": [
    {
     "data": {
      "text/plain": [
       "Walker2D(1, 2)"
      ]
     },
     "execution_count": 25,
     "metadata": {},
     "output_type": "execute_result"
    }
   ],
   "source": [
    "w"
   ]
  },
  {
   "cell_type": "code",
   "execution_count": 29,
   "metadata": {},
   "outputs": [
    {
     "data": {
      "text/plain": [
       "Walker2D(2, 2)"
      ]
     },
     "execution_count": 29,
     "metadata": {},
     "output_type": "execute_result"
    }
   ],
   "source": [
    "move_right(w)"
   ]
  },
  {
   "cell_type": "code",
   "execution_count": 30,
   "metadata": {},
   "outputs": [
    {
     "data": {
      "text/plain": [
       "Walker2D(1, 2)"
      ]
     },
     "execution_count": 30,
     "metadata": {},
     "output_type": "execute_result"
    }
   ],
   "source": [
    "w"
   ]
  },
  {
   "cell_type": "code",
   "execution_count": 31,
   "metadata": {},
   "outputs": [
    {
     "data": {
      "text/plain": [
       "Walker2D(2, 2)"
      ]
     },
     "execution_count": 31,
     "metadata": {},
     "output_type": "execute_result"
    }
   ],
   "source": [
    "w = Walker2D(1, 2)\n",
    "\n",
    "w = move_right(w)   # should return (2, 2)"
   ]
  },
  {
   "cell_type": "markdown",
   "metadata": {},
   "source": [
    "In this way we can have variables that refer to immutable `struct`s but whose value we can change."
   ]
  },
  {
   "cell_type": "markdown",
   "metadata": {},
   "source": [
    "## Generic programming with types"
   ]
  },
  {
   "cell_type": "markdown",
   "metadata": {},
   "source": [
    "Let's think about our `walk` function from the previous notebook:"
   ]
  },
  {
   "cell_type": "code",
   "execution_count": 33,
   "metadata": {},
   "outputs": [
    {
     "data": {
      "text/plain": [
       "walk (generic function with 1 method)"
      ]
     },
     "execution_count": 33,
     "metadata": {},
     "output_type": "execute_result"
    }
   ],
   "source": [
    "function walk(T)\n",
    "    pos = initialize()\n",
    "    \n",
    "    trajectory = [pos]    # make a vector that contains one item, the current value of `pos`\n",
    "    \n",
    "    for t in 1:T\n",
    "        pos = move(pos)\n",
    "        push!(trajectory, deepcopy(pos))\n",
    "    end\n",
    "    \n",
    "    return trajectory\n",
    "end"
   ]
  },
  {
   "cell_type": "markdown",
   "metadata": {},
   "source": [
    "In the previous notebook we changed the behaviour by passing in different functions as arguments. Now, however, we have a (usually) better solution: we can make objects of different *types* behave in different ways! \n",
    "\n",
    "Indeed, we have not actually said what **types** are. They are basically labels that tell Julia how data (i.e. bits in memory) should **behave** when acted on by different functions. For example, internally Julia must call *different* functions to add two integers or two floating-point numbers together, since the internal representation of these numbers is very different."
   ]
  },
  {
   "cell_type": "markdown",
   "metadata": {},
   "source": [
    "So let's rewrite `walk` so that it acts on an *object* `w` representing our walker:"
   ]
  },
  {
   "cell_type": "code",
   "execution_count": 35,
   "metadata": {},
   "outputs": [
    {
     "data": {
      "text/plain": [
       "walk"
      ]
     },
     "execution_count": 35,
     "metadata": {},
     "output_type": "execute_result"
    }
   ],
   "source": [
    "\"Calculate the trajectory of a walker `w` for time `T`.\"\n",
    "function walk(w, T)\n",
    "    \n",
    "    trajectory = [w]   # store the current (initial) position of `w`\n",
    "    \n",
    "    for t in 1:T\n",
    "        w = move(w)    # update the value bound to `w`\n",
    "        push!(trajectory, deepcopy(w))   # store the current value\n",
    "    end\n",
    "    \n",
    "    return trajectory\n",
    "end"
   ]
  },
  {
   "cell_type": "markdown",
   "metadata": {},
   "source": [
    "It now accepts an argument `w`, which we expect to be some type of walker object. Note that we no longer call `initialise` &ndash; rather, we require that the user create their favourite type of walker object and pass it to us as an additional *input argument* to the function.\n",
    "\n",
    "What makes something a \"walker object\"? If we look at the function, we see that the only thing we actually do to `w` is to call `move` on it. So we have an informal **interface**: *anything* with a function `move` defined (that behaves in the correct way) will be OK! This is another example of generic programming."
   ]
  },
  {
   "cell_type": "markdown",
   "metadata": {},
   "source": [
    "For example, we can use our function with standard Julia integers by defining a `walk` function on them:"
   ]
  },
  {
   "cell_type": "code",
   "execution_count": 37,
   "metadata": {},
   "outputs": [
    {
     "data": {
      "text/plain": [
       "move (generic function with 1 method)"
      ]
     },
     "execution_count": 37,
     "metadata": {},
     "output_type": "execute_result"
    }
   ],
   "source": [
    "move(w::Integer) = w + 1  # not Int64"
   ]
  },
  {
   "cell_type": "markdown",
   "metadata": {},
   "source": [
    "Here, `w::Integer` is a **type annotation**. It is saying \"this version of the `walk` function applies when the argument is of type `Integer`. (Note that `Integer` is an abstract type that includes all concrete integer types, such as `Int64` and `BigInt`.) \n",
    "\n",
    "Versions of functions (with the *same* function name) are known as **methods** in Julia. A (generic) function is made up of a patchwork of different methods that act on objects of different types. When we add a method that acts on a new type or combination of types we talk about **extending** the function.\n",
    "\n",
    "Note that it is rare for functions to live inside types in Julia, unlike in object-oriented languages. Functions are too important to be hidden away inside types! \n",
    "This is one of the main things that gives Julia a very different flavour and makes it much more flexible for scientific / technical computing."
   ]
  },
  {
   "cell_type": "markdown",
   "metadata": {},
   "source": [
    "Now we can walk down the integers:"
   ]
  },
  {
   "cell_type": "code",
   "execution_count": 38,
   "metadata": {},
   "outputs": [
    {
     "data": {
      "text/plain": [
       "1×11 LinearAlgebra.Adjoint{Int64,Array{Int64,1}}:\n",
       " 3  4  5  6  7  8  9  10  11  12  13"
      ]
     },
     "execution_count": 38,
     "metadata": {},
     "output_type": "execute_result"
    }
   ],
   "source": [
    "x0 = 3  # initial position\n",
    "T = 10  # length of trajectory\n",
    "\n",
    "trajectory = walk(x0, T)'"
   ]
  },
  {
   "cell_type": "markdown",
   "metadata": {},
   "source": [
    "#### Exercise\n",
    "\n",
    "1. Define a `Walker1D` type and a *new method* for the `move` function (with the *same* function name, `move`!).\n",
    "Plot some trajectories as a function of time.\n",
    "\n",
    "\n",
    "2. Use the `Walker2D` type, together with the random jump code from the last notebook, to define another new method for `move`.\n",
    "\n",
    "\n",
    "3. Use this to calculate and plot a trajectory in space. Hint: An array comprehension is a simple way of extracting a given field from an object.\n",
    "\n",
    "\n",
    "4. Make an interactive visualization of a cloud of walkers over time."
   ]
  },
  {
   "cell_type": "code",
   "execution_count": 39,
   "metadata": {},
   "outputs": [],
   "source": [
    "struct Hello\n",
    "    n::Int64\n",
    "    v::Vector{Int64}\n",
    "end\n",
    "    "
   ]
  },
  {
   "cell_type": "code",
   "execution_count": 40,
   "metadata": {},
   "outputs": [
    {
     "data": {
      "text/plain": [
       "Hello(1, [3, 4])"
      ]
     },
     "execution_count": 40,
     "metadata": {},
     "output_type": "execute_result"
    }
   ],
   "source": [
    "h = Hello(1, [3, 4])"
   ]
  },
  {
   "cell_type": "code",
   "execution_count": 41,
   "metadata": {},
   "outputs": [
    {
     "ename": "ErrorException",
     "evalue": "setfield! immutable struct of type Hello cannot be changed",
     "output_type": "error",
     "traceback": [
      "setfield! immutable struct of type Hello cannot be changed",
      "",
      "Stacktrace:",
      " [1] setproperty!(::Hello, ::Symbol, ::Array{Int64,1}) at ./Base.jl:34",
      " [2] top-level scope at In[41]:1"
     ]
    }
   ],
   "source": [
    "h.v = [4, 5]"
   ]
  },
  {
   "cell_type": "code",
   "execution_count": 42,
   "metadata": {},
   "outputs": [
    {
     "data": {
      "text/plain": [
       "10"
      ]
     },
     "execution_count": 42,
     "metadata": {},
     "output_type": "execute_result"
    }
   ],
   "source": [
    "h.v[2] = 10"
   ]
  },
  {
   "cell_type": "code",
   "execution_count": 43,
   "metadata": {},
   "outputs": [
    {
     "data": {
      "text/plain": [
       "3-element Array{Int64,1}:\n",
       "   3\n",
       "  10\n",
       " 100"
      ]
     },
     "execution_count": 43,
     "metadata": {},
     "output_type": "execute_result"
    }
   ],
   "source": [
    "push!(h.v, 100)"
   ]
  },
  {
   "cell_type": "code",
   "execution_count": 44,
   "metadata": {},
   "outputs": [
    {
     "data": {
      "text/plain": [
       "Hello(1, [3, 10, 100])"
      ]
     },
     "execution_count": 44,
     "metadata": {},
     "output_type": "execute_result"
    }
   ],
   "source": [
    "h"
   ]
  },
  {
   "cell_type": "code",
   "execution_count": 45,
   "metadata": {},
   "outputs": [],
   "source": [
    "struct Walker1D\n",
    "    x::Int64\n",
    "end"
   ]
  },
  {
   "cell_type": "code",
   "execution_count": 46,
   "metadata": {},
   "outputs": [
    {
     "data": {
      "text/plain": [
       "move (generic function with 2 methods)"
      ]
     },
     "execution_count": 46,
     "metadata": {},
     "output_type": "execute_result"
    }
   ],
   "source": [
    "move(w::Walker1D) = Walker1D(w.x + 1)"
   ]
  },
  {
   "cell_type": "code",
   "execution_count": 47,
   "metadata": {},
   "outputs": [
    {
     "data": {
      "text/plain": [
       "Walker1D(10)"
      ]
     },
     "execution_count": 47,
     "metadata": {},
     "output_type": "execute_result"
    }
   ],
   "source": [
    "w = Walker1D(10)"
   ]
  },
  {
   "cell_type": "code",
   "execution_count": 48,
   "metadata": {},
   "outputs": [
    {
     "data": {
      "text/plain": [
       "6-element Array{Walker1D,1}:\n",
       " Walker1D(10)\n",
       " Walker1D(11)\n",
       " Walker1D(12)\n",
       " Walker1D(13)\n",
       " Walker1D(14)\n",
       " Walker1D(15)"
      ]
     },
     "execution_count": 48,
     "metadata": {},
     "output_type": "execute_result"
    }
   ],
   "source": [
    "walk(w, 5)"
   ]
  },
  {
   "cell_type": "code",
   "execution_count": 49,
   "metadata": {},
   "outputs": [
    {
     "data": {
      "text/plain": [
       "move (generic function with 3 methods)"
      ]
     },
     "execution_count": 49,
     "metadata": {},
     "output_type": "execute_result"
    }
   ],
   "source": [
    "move(w::Walker2D) = move_right(w)"
   ]
  },
  {
   "cell_type": "code",
   "execution_count": 50,
   "metadata": {},
   "outputs": [
    {
     "data": {
      "text/plain": [
       "Walker2D(6, 7)"
      ]
     },
     "execution_count": 50,
     "metadata": {},
     "output_type": "execute_result"
    }
   ],
   "source": [
    "w2 = Walker2D(6, 7)"
   ]
  },
  {
   "cell_type": "code",
   "execution_count": 52,
   "metadata": {},
   "outputs": [
    {
     "data": {
      "text/plain": [
       "6-element Array{Walker2D,1}:\n",
       " Walker2D(6, 7)\n",
       " Walker2D(7, 7)\n",
       " Walker2D(8, 7)\n",
       " Walker2D(9, 7)\n",
       " Walker2D(10, 7)\n",
       " Walker2D(11, 7)"
      ]
     },
     "execution_count": 52,
     "metadata": {},
     "output_type": "execute_result"
    }
   ],
   "source": [
    "walk(w2, 5)"
   ]
  },
  {
   "cell_type": "code",
   "execution_count": 53,
   "metadata": {},
   "outputs": [
    {
     "name": "stdout",
     "output_type": "stream",
     "text": [
      "Variables\n",
      "  #self#\u001b[36m::Core.Compiler.Const(walk, false)\u001b[39m\n",
      "  w@_2\u001b[36m::Walker2D\u001b[39m\n",
      "  T\u001b[36m::Int64\u001b[39m\n",
      "  trajectory\u001b[36m::Array{Walker2D,1}\u001b[39m\n",
      "  @_5\u001b[33m\u001b[1m::Union{Nothing, Tuple{Int64,Int64}}\u001b[22m\u001b[39m\n",
      "  t\u001b[36m::Int64\u001b[39m\n",
      "  w@_7\u001b[36m::Walker2D\u001b[39m\n",
      "\n",
      "Body\u001b[36m::Array{Walker2D,1}\u001b[39m\n",
      "\u001b[90m1 ─\u001b[39m       (w@_7 = w@_2)\n",
      "\u001b[90m│  \u001b[39m       (trajectory = Base.vect(w@_7))\n",
      "\u001b[90m│  \u001b[39m %3  = (1:T)\u001b[36m::Core.Compiler.PartialStruct(UnitRange{Int64}, Any[Core.Compiler.Const(1, false), Int64])\u001b[39m\n",
      "\u001b[90m│  \u001b[39m       (@_5 = Base.iterate(%3))\n",
      "\u001b[90m│  \u001b[39m %5  = (@_5 === nothing)\u001b[36m::Bool\u001b[39m\n",
      "\u001b[90m│  \u001b[39m %6  = Base.not_int(%5)\u001b[36m::Bool\u001b[39m\n",
      "\u001b[90m└──\u001b[39m       goto #4 if not %6\n",
      "\u001b[90m2 ┄\u001b[39m %8  = @_5::Tuple{Int64,Int64}\u001b[36m::Tuple{Int64,Int64}\u001b[39m\n",
      "\u001b[90m│  \u001b[39m       (t = Core.getfield(%8, 1))\n",
      "\u001b[90m│  \u001b[39m %10 = Core.getfield(%8, 2)\u001b[36m::Int64\u001b[39m\n",
      "\u001b[90m│  \u001b[39m       (w@_7 = Main.move(w@_7))\n",
      "\u001b[90m│  \u001b[39m %12 = trajectory\u001b[36m::Array{Walker2D,1}\u001b[39m\n",
      "\u001b[90m│  \u001b[39m %13 = Main.deepcopy(w@_7)\u001b[36m::Walker2D\u001b[39m\n",
      "\u001b[90m│  \u001b[39m       Main.push!(%12, %13)\n",
      "\u001b[90m│  \u001b[39m       (@_5 = Base.iterate(%3, %10))\n",
      "\u001b[90m│  \u001b[39m %16 = (@_5 === nothing)\u001b[36m::Bool\u001b[39m\n",
      "\u001b[90m│  \u001b[39m %17 = Base.not_int(%16)\u001b[36m::Bool\u001b[39m\n",
      "\u001b[90m└──\u001b[39m       goto #4 if not %17\n",
      "\u001b[90m3 ─\u001b[39m       goto #2\n",
      "\u001b[90m4 ┄\u001b[39m       return trajectory\n"
     ]
    }
   ],
   "source": [
    "@code_warntype walk(w2, 5)"
   ]
  },
  {
   "cell_type": "code",
   "execution_count": 54,
   "metadata": {},
   "outputs": [
    {
     "data": {
      "text/html": [
       "# 3 methods for generic function <b>move</b>:<ul><li> move(w::<b>Walker2D</b>) in Main at In[49]:1</li> <li> move(w::<b>Walker1D</b>) in Main at In[46]:1</li> <li> move(w::<b>Integer</b>) in Main at In[37]:1</li> </ul>"
      ],
      "text/plain": [
       "# 3 methods for generic function \"move\":\n",
       "[1] move(w::Walker2D) in Main at In[49]:1\n",
       "[2] move(w::Walker1D) in Main at In[46]:1\n",
       "[3] move(w::Integer) in Main at In[37]:1"
      ]
     },
     "execution_count": 54,
     "metadata": {},
     "output_type": "execute_result"
    }
   ],
   "source": [
    "methods(move)"
   ]
  },
  {
   "cell_type": "code",
   "execution_count": 55,
   "metadata": {},
   "outputs": [
    {
     "data": {
      "text/plain": [
       "Walker1D(10)"
      ]
     },
     "execution_count": 55,
     "metadata": {},
     "output_type": "execute_result"
    }
   ],
   "source": [
    "w"
   ]
  },
  {
   "cell_type": "code",
   "execution_count": 56,
   "metadata": {},
   "outputs": [
    {
     "data": {
      "text/plain": [
       "Walker1D(11)"
      ]
     },
     "execution_count": 56,
     "metadata": {},
     "output_type": "execute_result"
    }
   ],
   "source": [
    "move(w)"
   ]
  },
  {
   "cell_type": "code",
   "execution_count": 57,
   "metadata": {},
   "outputs": [
    {
     "data": {
      "text/plain": [
       "Walker1D(11)"
      ]
     },
     "execution_count": 57,
     "metadata": {},
     "output_type": "execute_result"
    }
   ],
   "source": [
    "move(w)"
   ]
  },
  {
   "cell_type": "markdown",
   "metadata": {},
   "source": [
    "#### Exercise"
   ]
  },
  {
   "cell_type": "markdown",
   "metadata": {},
   "source": [
    "1. Make a `CorrelatedWalker1D` type representing a 1-dimensional **correlated random walk**. This is a random walk that remembers its previous step direction &ndash; In the language of computer science, it **has state**, or is **stateful**.\n",
    "The walker takes the following step in the *same* direction with probability $p$, and in the opposite direction with probability $1-p$. The parameter $p$ and the direction must thus be additional fields of the object.\n",
    "\n",
    "\n",
    "2. Calculate and draw some trajectories."
   ]
  },
  {
   "cell_type": "code",
   "execution_count": null,
   "metadata": {},
   "outputs": [],
   "source": []
  },
  {
   "cell_type": "markdown",
   "metadata": {},
   "source": [
    "## Mutable `struct`s"
   ]
  },
  {
   "cell_type": "markdown",
   "metadata": {},
   "source": [
    "An alternative approach is to use *mutable* structs, where the fields *can* be modified. Functions that modify the content of an object have `!` appended to their names by convention:"
   ]
  },
  {
   "cell_type": "code",
   "execution_count": null,
   "metadata": {},
   "outputs": [],
   "source": [
    "mutable struct MutableWalker1D\n",
    "    x::Int\n",
    "end"
   ]
  },
  {
   "cell_type": "code",
   "execution_count": null,
   "metadata": {},
   "outputs": [],
   "source": [
    "w = MutableWalker1D(0)"
   ]
  },
  {
   "cell_type": "code",
   "execution_count": null,
   "metadata": {},
   "outputs": [],
   "source": [
    "w.x = 1   # now this works!"
   ]
  },
  {
   "cell_type": "code",
   "execution_count": null,
   "metadata": {},
   "outputs": [],
   "source": []
  },
  {
   "cell_type": "markdown",
   "metadata": {},
   "source": [
    "However, it is usually preferable for getting good performance to use immutable `struct`s."
   ]
  },
  {
   "cell_type": "markdown",
   "metadata": {},
   "source": [
    "#### Exercise\n",
    "1. Define a `move!` function that updates the value stored inside the `MutableWalker1D` object. Can you re-use code you have already written?"
   ]
  },
  {
   "cell_type": "code",
   "execution_count": 59,
   "metadata": {},
   "outputs": [
    {
     "data": {
      "text/plain": [
       "f (generic function with 2 methods)"
      ]
     },
     "execution_count": 59,
     "metadata": {},
     "output_type": "execute_result"
    }
   ],
   "source": [
    "f(g, x) = @g(x)"
   ]
  },
  {
   "cell_type": "code",
   "execution_count": 61,
   "metadata": {},
   "outputs": [
    {
     "data": {
      "text/plain": [
       "k (generic function with 1 method)"
      ]
     },
     "execution_count": 61,
     "metadata": {},
     "output_type": "execute_result"
    }
   ],
   "source": [
    "k(x) = x + 10"
   ]
  },
  {
   "cell_type": "code",
   "execution_count": 62,
   "metadata": {},
   "outputs": [
    {
     "data": {
      "text/plain": [
       "26"
      ]
     },
     "execution_count": 62,
     "metadata": {},
     "output_type": "execute_result"
    }
   ],
   "source": [
    "f(k, 3)"
   ]
  },
  {
   "cell_type": "code",
   "execution_count": 63,
   "metadata": {},
   "outputs": [
    {
     "data": {
      "text/plain": [
       "k (generic function with 1 method)"
      ]
     },
     "execution_count": 63,
     "metadata": {},
     "output_type": "execute_result"
    }
   ],
   "source": [
    "g = k"
   ]
  },
  {
   "cell_type": "code",
   "execution_count": 64,
   "metadata": {},
   "outputs": [
    {
     "data": {
      "text/plain": [
       "k (generic function with 1 method)"
      ]
     },
     "execution_count": 64,
     "metadata": {},
     "output_type": "execute_result"
    }
   ],
   "source": [
    "g"
   ]
  },
  {
   "cell_type": "code",
   "execution_count": 65,
   "metadata": {},
   "outputs": [
    {
     "data": {
      "text/plain": [
       "26"
      ]
     },
     "execution_count": 65,
     "metadata": {},
     "output_type": "execute_result"
    }
   ],
   "source": [
    "2 * k(3)"
   ]
  },
  {
   "cell_type": "code",
   "execution_count": 66,
   "metadata": {},
   "outputs": [
    {
     "data": {
      "text/plain": [
       "13"
      ]
     },
     "execution_count": 66,
     "metadata": {},
     "output_type": "execute_result"
    }
   ],
   "source": [
    "k(3)"
   ]
  },
  {
   "cell_type": "code",
   "execution_count": 67,
   "metadata": {},
   "outputs": [
    {
     "name": "stdout",
     "output_type": "stream",
     "text": [
      "Variables\n",
      "  #self#\u001b[36m::Core.Compiler.Const(k, false)\u001b[39m\n",
      "  x\u001b[36m::Int64\u001b[39m\n",
      "\n",
      "Body\u001b[36m::Int64\u001b[39m\n",
      "\u001b[90m1 ─\u001b[39m %1 = (x + 10)\u001b[36m::Int64\u001b[39m\n",
      "\u001b[90m└──\u001b[39m      return %1\n"
     ]
    }
   ],
   "source": [
    "@code_warntype k(3)"
   ]
  },
  {
   "cell_type": "code",
   "execution_count": 68,
   "metadata": {},
   "outputs": [
    {
     "name": "stdout",
     "output_type": "stream",
     "text": [
      "Variables\n",
      "  #self#\u001b[36m::Core.Compiler.Const(f, false)\u001b[39m\n",
      "  g\u001b[36m::Core.Compiler.Const(k, false)\u001b[39m\n",
      "  x\u001b[36m::Int64\u001b[39m\n",
      "\n",
      "Body\u001b[36m::Int64\u001b[39m\n",
      "\u001b[90m1 ─\u001b[39m %1 = (g)(x)\u001b[36m::Int64\u001b[39m\n",
      "\u001b[90m│  \u001b[39m %2 = (2 * %1)\u001b[36m::Int64\u001b[39m\n",
      "\u001b[90m└──\u001b[39m      return %2\n"
     ]
    }
   ],
   "source": [
    "@code_warntype f(k, 3)"
   ]
  },
  {
   "cell_type": "code",
   "execution_count": 69,
   "metadata": {},
   "outputs": [
    {
     "data": {
      "text/plain": [
       "k2 (generic function with 1 method)"
      ]
     },
     "execution_count": 69,
     "metadata": {},
     "output_type": "execute_result"
    }
   ],
   "source": [
    "k2(x) = x + 10.0"
   ]
  },
  {
   "cell_type": "code",
   "execution_count": 70,
   "metadata": {},
   "outputs": [
    {
     "data": {
      "text/plain": [
       "26.0"
      ]
     },
     "execution_count": 70,
     "metadata": {},
     "output_type": "execute_result"
    }
   ],
   "source": [
    "f(k2, 3)"
   ]
  },
  {
   "cell_type": "code",
   "execution_count": 71,
   "metadata": {},
   "outputs": [
    {
     "name": "stdout",
     "output_type": "stream",
     "text": [
      "Variables\n",
      "  #self#\u001b[36m::Core.Compiler.Const(f, false)\u001b[39m\n",
      "  g\u001b[36m::Core.Compiler.Const(k2, false)\u001b[39m\n",
      "  x\u001b[36m::Int64\u001b[39m\n",
      "\n",
      "Body\u001b[36m::Float64\u001b[39m\n",
      "\u001b[90m1 ─\u001b[39m %1 = (g)(x)\u001b[36m::Float64\u001b[39m\n",
      "\u001b[90m│  \u001b[39m %2 = (2 * %1)\u001b[36m::Float64\u001b[39m\n",
      "\u001b[90m└──\u001b[39m      return %2\n"
     ]
    }
   ],
   "source": [
    "@code_warntype f(k2, 3)"
   ]
  },
  {
   "cell_type": "markdown",
   "metadata": {},
   "source": [
    "[[[FunctionWrappers.jl: Specify input and output types of functions for type stability.]]]"
   ]
  },
  {
   "cell_type": "code",
   "execution_count": null,
   "metadata": {},
   "outputs": [],
   "source": []
  }
 ],
 "metadata": {
  "@webio": {
   "lastCommId": null,
   "lastKernelId": null
  },
  "kernelspec": {
   "display_name": "Julia 1.4.2",
   "language": "julia",
   "name": "julia-1.4"
  },
  "language_info": {
   "file_extension": ".jl",
   "mimetype": "application/julia",
   "name": "julia",
   "version": "1.4.2"
  }
 },
 "nbformat": 4,
 "nbformat_minor": 4
}
